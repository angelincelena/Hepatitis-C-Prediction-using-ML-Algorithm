{
  "cells": [
    {
      "cell_type": "code",
      "execution_count": 158,
      "metadata": {
        "id": "bH1gfvnmZ2Hz"
      },
      "outputs": [],
      "source": [
        "import numpy as np \n",
        "import pandas as pd \n",
        "import os\n",
        "for dirname, _, filenames in os.walk('/kaggle/input'):\n",
        "    for filename in filenames:\n",
        "        print(os.path.join(dirname, filename))\n",
        "        \n",
        "import matplotlib.pyplot as plt\n",
        "from matplotlib import cm\n",
        "import seaborn as sns\n",
        "\n",
        "from sklearn.preprocessing import OrdinalEncoder\n",
        "\n",
        "from sklearn.naive_bayes import GaussianNB\n",
        "from sklearn.tree import DecisionTreeClassifier as dtc\n",
        "from sklearn.ensemble import RandomForestClassifier\n",
        "from sklearn.neighbors import KNeighborsClassifier\n",
        "from sklearn.svm import SVC\n",
        "\n",
        "from sklearn.feature_selection import mutual_info_classif\n",
        "\n",
        "from sklearn.metrics import confusion_matrix\n",
        "from sklearn.metrics import classification_report\n",
        "from sklearn.model_selection import cross_val_predict\n",
        "from sklearn.model_selection import train_test_split"
      ]
    },
    {
      "cell_type": "code",
      "execution_count": 159,
      "metadata": {
        "id": "HeJ9JcvWZ2H3"
      },
      "outputs": [],
      "source": [
        "path = \"/content/HepatitisCdata.csv\"\n",
        "hepatitisC_df = pd.read_csv(path, index_col=\"Unnamed: 0\")\n",
        "df = hepatitisC_df.copy()"
      ]
    },
    {
      "cell_type": "code",
      "source": [
        "#Liver Enzyme Ratio\n",
        "df['Enzyme Ratio'] = df['AST'] / df['ALT']"
      ],
      "metadata": {
        "id": "GtQ6iGVYTSSR"
      },
      "execution_count": 160,
      "outputs": []
    },
    {
      "cell_type": "code",
      "execution_count": 161,
      "metadata": {
        "id": "whL8NU_HZ2H4",
        "outputId": "5b169e55-7edc-4c50-db78-7f92d4cbdc2f",
        "colab": {
          "base_uri": "https://localhost:8080/",
          "height": 206
        }
      },
      "outputs": [
        {
          "output_type": "execute_result",
          "data": {
            "text/plain": [
              "        Category  Age Sex   ALB   ALP   ALT   AST   BIL    CHE  CHOL   CREA  \\\n",
              "1  0=Blood Donor   32   m  38.5  52.5   7.7  22.1   7.5   6.93  3.23  106.0   \n",
              "2  0=Blood Donor   32   m  38.5  70.3  18.0  24.7   3.9  11.17  4.80   74.0   \n",
              "3  0=Blood Donor   32   m  46.9  74.7  36.2  52.6   6.1   8.84  5.20   86.0   \n",
              "4  0=Blood Donor   32   m  43.2  52.0  30.6  22.6  18.9   7.33  4.74   80.0   \n",
              "5  0=Blood Donor   32   m  39.2  74.1  32.6  24.8   9.6   9.15  4.32   76.0   \n",
              "\n",
              "    GGT  PROT  Enzyme Ratio  \n",
              "1  12.1  69.0      2.870130  \n",
              "2  15.6  76.5      1.372222  \n",
              "3  33.2  79.3      1.453039  \n",
              "4  33.8  75.7      0.738562  \n",
              "5  29.9  68.7      0.760736  "
            ],
            "text/html": [
              "\n",
              "  <div id=\"df-d1723073-8844-4287-8dc8-6c2bfd6f515d\">\n",
              "    <div class=\"colab-df-container\">\n",
              "      <div>\n",
              "<style scoped>\n",
              "    .dataframe tbody tr th:only-of-type {\n",
              "        vertical-align: middle;\n",
              "    }\n",
              "\n",
              "    .dataframe tbody tr th {\n",
              "        vertical-align: top;\n",
              "    }\n",
              "\n",
              "    .dataframe thead th {\n",
              "        text-align: right;\n",
              "    }\n",
              "</style>\n",
              "<table border=\"1\" class=\"dataframe\">\n",
              "  <thead>\n",
              "    <tr style=\"text-align: right;\">\n",
              "      <th></th>\n",
              "      <th>Category</th>\n",
              "      <th>Age</th>\n",
              "      <th>Sex</th>\n",
              "      <th>ALB</th>\n",
              "      <th>ALP</th>\n",
              "      <th>ALT</th>\n",
              "      <th>AST</th>\n",
              "      <th>BIL</th>\n",
              "      <th>CHE</th>\n",
              "      <th>CHOL</th>\n",
              "      <th>CREA</th>\n",
              "      <th>GGT</th>\n",
              "      <th>PROT</th>\n",
              "      <th>Enzyme Ratio</th>\n",
              "    </tr>\n",
              "  </thead>\n",
              "  <tbody>\n",
              "    <tr>\n",
              "      <th>1</th>\n",
              "      <td>0=Blood Donor</td>\n",
              "      <td>32</td>\n",
              "      <td>m</td>\n",
              "      <td>38.5</td>\n",
              "      <td>52.5</td>\n",
              "      <td>7.7</td>\n",
              "      <td>22.1</td>\n",
              "      <td>7.5</td>\n",
              "      <td>6.93</td>\n",
              "      <td>3.23</td>\n",
              "      <td>106.0</td>\n",
              "      <td>12.1</td>\n",
              "      <td>69.0</td>\n",
              "      <td>2.870130</td>\n",
              "    </tr>\n",
              "    <tr>\n",
              "      <th>2</th>\n",
              "      <td>0=Blood Donor</td>\n",
              "      <td>32</td>\n",
              "      <td>m</td>\n",
              "      <td>38.5</td>\n",
              "      <td>70.3</td>\n",
              "      <td>18.0</td>\n",
              "      <td>24.7</td>\n",
              "      <td>3.9</td>\n",
              "      <td>11.17</td>\n",
              "      <td>4.80</td>\n",
              "      <td>74.0</td>\n",
              "      <td>15.6</td>\n",
              "      <td>76.5</td>\n",
              "      <td>1.372222</td>\n",
              "    </tr>\n",
              "    <tr>\n",
              "      <th>3</th>\n",
              "      <td>0=Blood Donor</td>\n",
              "      <td>32</td>\n",
              "      <td>m</td>\n",
              "      <td>46.9</td>\n",
              "      <td>74.7</td>\n",
              "      <td>36.2</td>\n",
              "      <td>52.6</td>\n",
              "      <td>6.1</td>\n",
              "      <td>8.84</td>\n",
              "      <td>5.20</td>\n",
              "      <td>86.0</td>\n",
              "      <td>33.2</td>\n",
              "      <td>79.3</td>\n",
              "      <td>1.453039</td>\n",
              "    </tr>\n",
              "    <tr>\n",
              "      <th>4</th>\n",
              "      <td>0=Blood Donor</td>\n",
              "      <td>32</td>\n",
              "      <td>m</td>\n",
              "      <td>43.2</td>\n",
              "      <td>52.0</td>\n",
              "      <td>30.6</td>\n",
              "      <td>22.6</td>\n",
              "      <td>18.9</td>\n",
              "      <td>7.33</td>\n",
              "      <td>4.74</td>\n",
              "      <td>80.0</td>\n",
              "      <td>33.8</td>\n",
              "      <td>75.7</td>\n",
              "      <td>0.738562</td>\n",
              "    </tr>\n",
              "    <tr>\n",
              "      <th>5</th>\n",
              "      <td>0=Blood Donor</td>\n",
              "      <td>32</td>\n",
              "      <td>m</td>\n",
              "      <td>39.2</td>\n",
              "      <td>74.1</td>\n",
              "      <td>32.6</td>\n",
              "      <td>24.8</td>\n",
              "      <td>9.6</td>\n",
              "      <td>9.15</td>\n",
              "      <td>4.32</td>\n",
              "      <td>76.0</td>\n",
              "      <td>29.9</td>\n",
              "      <td>68.7</td>\n",
              "      <td>0.760736</td>\n",
              "    </tr>\n",
              "  </tbody>\n",
              "</table>\n",
              "</div>\n",
              "      <button class=\"colab-df-convert\" onclick=\"convertToInteractive('df-d1723073-8844-4287-8dc8-6c2bfd6f515d')\"\n",
              "              title=\"Convert this dataframe to an interactive table.\"\n",
              "              style=\"display:none;\">\n",
              "        \n",
              "  <svg xmlns=\"http://www.w3.org/2000/svg\" height=\"24px\"viewBox=\"0 0 24 24\"\n",
              "       width=\"24px\">\n",
              "    <path d=\"M0 0h24v24H0V0z\" fill=\"none\"/>\n",
              "    <path d=\"M18.56 5.44l.94 2.06.94-2.06 2.06-.94-2.06-.94-.94-2.06-.94 2.06-2.06.94zm-11 1L8.5 8.5l.94-2.06 2.06-.94-2.06-.94L8.5 2.5l-.94 2.06-2.06.94zm10 10l.94 2.06.94-2.06 2.06-.94-2.06-.94-.94-2.06-.94 2.06-2.06.94z\"/><path d=\"M17.41 7.96l-1.37-1.37c-.4-.4-.92-.59-1.43-.59-.52 0-1.04.2-1.43.59L10.3 9.45l-7.72 7.72c-.78.78-.78 2.05 0 2.83L4 21.41c.39.39.9.59 1.41.59.51 0 1.02-.2 1.41-.59l7.78-7.78 2.81-2.81c.8-.78.8-2.07 0-2.86zM5.41 20L4 18.59l7.72-7.72 1.47 1.35L5.41 20z\"/>\n",
              "  </svg>\n",
              "      </button>\n",
              "      \n",
              "  <style>\n",
              "    .colab-df-container {\n",
              "      display:flex;\n",
              "      flex-wrap:wrap;\n",
              "      gap: 12px;\n",
              "    }\n",
              "\n",
              "    .colab-df-convert {\n",
              "      background-color: #E8F0FE;\n",
              "      border: none;\n",
              "      border-radius: 50%;\n",
              "      cursor: pointer;\n",
              "      display: none;\n",
              "      fill: #1967D2;\n",
              "      height: 32px;\n",
              "      padding: 0 0 0 0;\n",
              "      width: 32px;\n",
              "    }\n",
              "\n",
              "    .colab-df-convert:hover {\n",
              "      background-color: #E2EBFA;\n",
              "      box-shadow: 0px 1px 2px rgba(60, 64, 67, 0.3), 0px 1px 3px 1px rgba(60, 64, 67, 0.15);\n",
              "      fill: #174EA6;\n",
              "    }\n",
              "\n",
              "    [theme=dark] .colab-df-convert {\n",
              "      background-color: #3B4455;\n",
              "      fill: #D2E3FC;\n",
              "    }\n",
              "\n",
              "    [theme=dark] .colab-df-convert:hover {\n",
              "      background-color: #434B5C;\n",
              "      box-shadow: 0px 1px 3px 1px rgba(0, 0, 0, 0.15);\n",
              "      filter: drop-shadow(0px 1px 2px rgba(0, 0, 0, 0.3));\n",
              "      fill: #FFFFFF;\n",
              "    }\n",
              "  </style>\n",
              "\n",
              "      <script>\n",
              "        const buttonEl =\n",
              "          document.querySelector('#df-d1723073-8844-4287-8dc8-6c2bfd6f515d button.colab-df-convert');\n",
              "        buttonEl.style.display =\n",
              "          google.colab.kernel.accessAllowed ? 'block' : 'none';\n",
              "\n",
              "        async function convertToInteractive(key) {\n",
              "          const element = document.querySelector('#df-d1723073-8844-4287-8dc8-6c2bfd6f515d');\n",
              "          const dataTable =\n",
              "            await google.colab.kernel.invokeFunction('convertToInteractive',\n",
              "                                                     [key], {});\n",
              "          if (!dataTable) return;\n",
              "\n",
              "          const docLinkHtml = 'Like what you see? Visit the ' +\n",
              "            '<a target=\"_blank\" href=https://colab.research.google.com/notebooks/data_table.ipynb>data table notebook</a>'\n",
              "            + ' to learn more about interactive tables.';\n",
              "          element.innerHTML = '';\n",
              "          dataTable['output_type'] = 'display_data';\n",
              "          await google.colab.output.renderOutput(dataTable, element);\n",
              "          const docLink = document.createElement('div');\n",
              "          docLink.innerHTML = docLinkHtml;\n",
              "          element.appendChild(docLink);\n",
              "        }\n",
              "      </script>\n",
              "    </div>\n",
              "  </div>\n",
              "  "
            ]
          },
          "metadata": {},
          "execution_count": 161
        }
      ],
      "source": [
        "df.head()"
      ]
    },
    {
      "cell_type": "code",
      "execution_count": 162,
      "metadata": {
        "id": "eq_TYCUUZ2H4",
        "outputId": "fd20184e-1faa-4893-9841-d281a37d8e8c",
        "colab": {
          "base_uri": "https://localhost:8080/"
        }
      },
      "outputs": [
        {
          "output_type": "execute_result",
          "data": {
            "text/plain": [
              "(615, 14)"
            ]
          },
          "metadata": {},
          "execution_count": 162
        }
      ],
      "source": [
        "df.shape #returns the tuple representating the dimensions of the dataframe"
      ]
    },
    {
      "cell_type": "code",
      "execution_count": 163,
      "metadata": {
        "id": "w819gu1gZ2H4",
        "outputId": "f9624399-731d-4868-b84f-6133b83a4642",
        "colab": {
          "base_uri": "https://localhost:8080/"
        }
      },
      "outputs": [
        {
          "output_type": "stream",
          "name": "stdout",
          "text": [
            "<class 'pandas.core.frame.DataFrame'>\n",
            "Int64Index: 615 entries, 1 to 615\n",
            "Data columns (total 14 columns):\n",
            " #   Column        Non-Null Count  Dtype  \n",
            "---  ------        --------------  -----  \n",
            " 0   Category      615 non-null    object \n",
            " 1   Age           615 non-null    int64  \n",
            " 2   Sex           615 non-null    object \n",
            " 3   ALB           614 non-null    float64\n",
            " 4   ALP           597 non-null    float64\n",
            " 5   ALT           614 non-null    float64\n",
            " 6   AST           615 non-null    float64\n",
            " 7   BIL           615 non-null    float64\n",
            " 8   CHE           615 non-null    float64\n",
            " 9   CHOL          605 non-null    float64\n",
            " 10  CREA          615 non-null    float64\n",
            " 11  GGT           615 non-null    float64\n",
            " 12  PROT          614 non-null    float64\n",
            " 13  Enzyme Ratio  614 non-null    float64\n",
            "dtypes: float64(11), int64(1), object(2)\n",
            "memory usage: 72.1+ KB\n"
          ]
        }
      ],
      "source": [
        "df.info() #summary of the data type of each column and no: of null values "
      ]
    },
    {
      "cell_type": "code",
      "execution_count": 164,
      "metadata": {
        "id": "SvjjWmAyZ2H5",
        "outputId": "8aeebc84-54e9-476b-b9ad-6bac76be0531",
        "colab": {
          "base_uri": "https://localhost:8080/",
          "height": 300
        }
      },
      "outputs": [
        {
          "output_type": "execute_result",
          "data": {
            "text/plain": [
              "              Age         ALB         ALP         ALT         AST         BIL  \\\n",
              "count  615.000000  614.000000  597.000000  614.000000  615.000000  615.000000   \n",
              "mean    47.408130   41.620195   68.283920   28.450814   34.786341   11.396748   \n",
              "std     10.055105    5.780629   26.028315   25.469689   33.090690   19.673150   \n",
              "min     19.000000   14.900000   11.300000    0.900000   10.600000    0.800000   \n",
              "25%     39.000000   38.800000   52.500000   16.400000   21.600000    5.300000   \n",
              "50%     47.000000   41.950000   66.200000   23.000000   25.900000    7.300000   \n",
              "75%     54.000000   45.200000   80.100000   33.075000   32.900000   11.200000   \n",
              "max     77.000000   82.200000  416.600000  325.300000  324.000000  254.000000   \n",
              "\n",
              "              CHE        CHOL         CREA         GGT        PROT  \\\n",
              "count  615.000000  605.000000   615.000000  615.000000  614.000000   \n",
              "mean     8.196634    5.368099    81.287805   39.533171   72.044137   \n",
              "std      2.205657    1.132728    49.756166   54.661071    5.402636   \n",
              "min      1.420000    1.430000     8.000000    4.500000   44.800000   \n",
              "25%      6.935000    4.610000    67.000000   15.700000   69.300000   \n",
              "50%      8.260000    5.300000    77.000000   23.300000   72.200000   \n",
              "75%      9.590000    6.060000    88.000000   40.200000   75.400000   \n",
              "max     16.410000    9.670000  1079.100000  650.900000   90.000000   \n",
              "\n",
              "       Enzyme Ratio  \n",
              "count    614.000000  \n",
              "mean       2.144425  \n",
              "std        5.289798  \n",
              "min        0.410853  \n",
              "25%        0.867179  \n",
              "50%        1.115690  \n",
              "75%        1.413144  \n",
              "max       89.222222  "
            ],
            "text/html": [
              "\n",
              "  <div id=\"df-f03ffe8f-cb46-4cad-9c85-d5e852983905\">\n",
              "    <div class=\"colab-df-container\">\n",
              "      <div>\n",
              "<style scoped>\n",
              "    .dataframe tbody tr th:only-of-type {\n",
              "        vertical-align: middle;\n",
              "    }\n",
              "\n",
              "    .dataframe tbody tr th {\n",
              "        vertical-align: top;\n",
              "    }\n",
              "\n",
              "    .dataframe thead th {\n",
              "        text-align: right;\n",
              "    }\n",
              "</style>\n",
              "<table border=\"1\" class=\"dataframe\">\n",
              "  <thead>\n",
              "    <tr style=\"text-align: right;\">\n",
              "      <th></th>\n",
              "      <th>Age</th>\n",
              "      <th>ALB</th>\n",
              "      <th>ALP</th>\n",
              "      <th>ALT</th>\n",
              "      <th>AST</th>\n",
              "      <th>BIL</th>\n",
              "      <th>CHE</th>\n",
              "      <th>CHOL</th>\n",
              "      <th>CREA</th>\n",
              "      <th>GGT</th>\n",
              "      <th>PROT</th>\n",
              "      <th>Enzyme Ratio</th>\n",
              "    </tr>\n",
              "  </thead>\n",
              "  <tbody>\n",
              "    <tr>\n",
              "      <th>count</th>\n",
              "      <td>615.000000</td>\n",
              "      <td>614.000000</td>\n",
              "      <td>597.000000</td>\n",
              "      <td>614.000000</td>\n",
              "      <td>615.000000</td>\n",
              "      <td>615.000000</td>\n",
              "      <td>615.000000</td>\n",
              "      <td>605.000000</td>\n",
              "      <td>615.000000</td>\n",
              "      <td>615.000000</td>\n",
              "      <td>614.000000</td>\n",
              "      <td>614.000000</td>\n",
              "    </tr>\n",
              "    <tr>\n",
              "      <th>mean</th>\n",
              "      <td>47.408130</td>\n",
              "      <td>41.620195</td>\n",
              "      <td>68.283920</td>\n",
              "      <td>28.450814</td>\n",
              "      <td>34.786341</td>\n",
              "      <td>11.396748</td>\n",
              "      <td>8.196634</td>\n",
              "      <td>5.368099</td>\n",
              "      <td>81.287805</td>\n",
              "      <td>39.533171</td>\n",
              "      <td>72.044137</td>\n",
              "      <td>2.144425</td>\n",
              "    </tr>\n",
              "    <tr>\n",
              "      <th>std</th>\n",
              "      <td>10.055105</td>\n",
              "      <td>5.780629</td>\n",
              "      <td>26.028315</td>\n",
              "      <td>25.469689</td>\n",
              "      <td>33.090690</td>\n",
              "      <td>19.673150</td>\n",
              "      <td>2.205657</td>\n",
              "      <td>1.132728</td>\n",
              "      <td>49.756166</td>\n",
              "      <td>54.661071</td>\n",
              "      <td>5.402636</td>\n",
              "      <td>5.289798</td>\n",
              "    </tr>\n",
              "    <tr>\n",
              "      <th>min</th>\n",
              "      <td>19.000000</td>\n",
              "      <td>14.900000</td>\n",
              "      <td>11.300000</td>\n",
              "      <td>0.900000</td>\n",
              "      <td>10.600000</td>\n",
              "      <td>0.800000</td>\n",
              "      <td>1.420000</td>\n",
              "      <td>1.430000</td>\n",
              "      <td>8.000000</td>\n",
              "      <td>4.500000</td>\n",
              "      <td>44.800000</td>\n",
              "      <td>0.410853</td>\n",
              "    </tr>\n",
              "    <tr>\n",
              "      <th>25%</th>\n",
              "      <td>39.000000</td>\n",
              "      <td>38.800000</td>\n",
              "      <td>52.500000</td>\n",
              "      <td>16.400000</td>\n",
              "      <td>21.600000</td>\n",
              "      <td>5.300000</td>\n",
              "      <td>6.935000</td>\n",
              "      <td>4.610000</td>\n",
              "      <td>67.000000</td>\n",
              "      <td>15.700000</td>\n",
              "      <td>69.300000</td>\n",
              "      <td>0.867179</td>\n",
              "    </tr>\n",
              "    <tr>\n",
              "      <th>50%</th>\n",
              "      <td>47.000000</td>\n",
              "      <td>41.950000</td>\n",
              "      <td>66.200000</td>\n",
              "      <td>23.000000</td>\n",
              "      <td>25.900000</td>\n",
              "      <td>7.300000</td>\n",
              "      <td>8.260000</td>\n",
              "      <td>5.300000</td>\n",
              "      <td>77.000000</td>\n",
              "      <td>23.300000</td>\n",
              "      <td>72.200000</td>\n",
              "      <td>1.115690</td>\n",
              "    </tr>\n",
              "    <tr>\n",
              "      <th>75%</th>\n",
              "      <td>54.000000</td>\n",
              "      <td>45.200000</td>\n",
              "      <td>80.100000</td>\n",
              "      <td>33.075000</td>\n",
              "      <td>32.900000</td>\n",
              "      <td>11.200000</td>\n",
              "      <td>9.590000</td>\n",
              "      <td>6.060000</td>\n",
              "      <td>88.000000</td>\n",
              "      <td>40.200000</td>\n",
              "      <td>75.400000</td>\n",
              "      <td>1.413144</td>\n",
              "    </tr>\n",
              "    <tr>\n",
              "      <th>max</th>\n",
              "      <td>77.000000</td>\n",
              "      <td>82.200000</td>\n",
              "      <td>416.600000</td>\n",
              "      <td>325.300000</td>\n",
              "      <td>324.000000</td>\n",
              "      <td>254.000000</td>\n",
              "      <td>16.410000</td>\n",
              "      <td>9.670000</td>\n",
              "      <td>1079.100000</td>\n",
              "      <td>650.900000</td>\n",
              "      <td>90.000000</td>\n",
              "      <td>89.222222</td>\n",
              "    </tr>\n",
              "  </tbody>\n",
              "</table>\n",
              "</div>\n",
              "      <button class=\"colab-df-convert\" onclick=\"convertToInteractive('df-f03ffe8f-cb46-4cad-9c85-d5e852983905')\"\n",
              "              title=\"Convert this dataframe to an interactive table.\"\n",
              "              style=\"display:none;\">\n",
              "        \n",
              "  <svg xmlns=\"http://www.w3.org/2000/svg\" height=\"24px\"viewBox=\"0 0 24 24\"\n",
              "       width=\"24px\">\n",
              "    <path d=\"M0 0h24v24H0V0z\" fill=\"none\"/>\n",
              "    <path d=\"M18.56 5.44l.94 2.06.94-2.06 2.06-.94-2.06-.94-.94-2.06-.94 2.06-2.06.94zm-11 1L8.5 8.5l.94-2.06 2.06-.94-2.06-.94L8.5 2.5l-.94 2.06-2.06.94zm10 10l.94 2.06.94-2.06 2.06-.94-2.06-.94-.94-2.06-.94 2.06-2.06.94z\"/><path d=\"M17.41 7.96l-1.37-1.37c-.4-.4-.92-.59-1.43-.59-.52 0-1.04.2-1.43.59L10.3 9.45l-7.72 7.72c-.78.78-.78 2.05 0 2.83L4 21.41c.39.39.9.59 1.41.59.51 0 1.02-.2 1.41-.59l7.78-7.78 2.81-2.81c.8-.78.8-2.07 0-2.86zM5.41 20L4 18.59l7.72-7.72 1.47 1.35L5.41 20z\"/>\n",
              "  </svg>\n",
              "      </button>\n",
              "      \n",
              "  <style>\n",
              "    .colab-df-container {\n",
              "      display:flex;\n",
              "      flex-wrap:wrap;\n",
              "      gap: 12px;\n",
              "    }\n",
              "\n",
              "    .colab-df-convert {\n",
              "      background-color: #E8F0FE;\n",
              "      border: none;\n",
              "      border-radius: 50%;\n",
              "      cursor: pointer;\n",
              "      display: none;\n",
              "      fill: #1967D2;\n",
              "      height: 32px;\n",
              "      padding: 0 0 0 0;\n",
              "      width: 32px;\n",
              "    }\n",
              "\n",
              "    .colab-df-convert:hover {\n",
              "      background-color: #E2EBFA;\n",
              "      box-shadow: 0px 1px 2px rgba(60, 64, 67, 0.3), 0px 1px 3px 1px rgba(60, 64, 67, 0.15);\n",
              "      fill: #174EA6;\n",
              "    }\n",
              "\n",
              "    [theme=dark] .colab-df-convert {\n",
              "      background-color: #3B4455;\n",
              "      fill: #D2E3FC;\n",
              "    }\n",
              "\n",
              "    [theme=dark] .colab-df-convert:hover {\n",
              "      background-color: #434B5C;\n",
              "      box-shadow: 0px 1px 3px 1px rgba(0, 0, 0, 0.15);\n",
              "      filter: drop-shadow(0px 1px 2px rgba(0, 0, 0, 0.3));\n",
              "      fill: #FFFFFF;\n",
              "    }\n",
              "  </style>\n",
              "\n",
              "      <script>\n",
              "        const buttonEl =\n",
              "          document.querySelector('#df-f03ffe8f-cb46-4cad-9c85-d5e852983905 button.colab-df-convert');\n",
              "        buttonEl.style.display =\n",
              "          google.colab.kernel.accessAllowed ? 'block' : 'none';\n",
              "\n",
              "        async function convertToInteractive(key) {\n",
              "          const element = document.querySelector('#df-f03ffe8f-cb46-4cad-9c85-d5e852983905');\n",
              "          const dataTable =\n",
              "            await google.colab.kernel.invokeFunction('convertToInteractive',\n",
              "                                                     [key], {});\n",
              "          if (!dataTable) return;\n",
              "\n",
              "          const docLinkHtml = 'Like what you see? Visit the ' +\n",
              "            '<a target=\"_blank\" href=https://colab.research.google.com/notebooks/data_table.ipynb>data table notebook</a>'\n",
              "            + ' to learn more about interactive tables.';\n",
              "          element.innerHTML = '';\n",
              "          dataTable['output_type'] = 'display_data';\n",
              "          await google.colab.output.renderOutput(dataTable, element);\n",
              "          const docLink = document.createElement('div');\n",
              "          docLink.innerHTML = docLinkHtml;\n",
              "          element.appendChild(docLink);\n",
              "        }\n",
              "      </script>\n",
              "    </div>\n",
              "  </div>\n",
              "  "
            ]
          },
          "metadata": {},
          "execution_count": 164
        }
      ],
      "source": [
        "df.describe() #statistical summary of the numerical values in the df"
      ]
    },
    {
      "cell_type": "code",
      "execution_count": 165,
      "metadata": {
        "id": "yO_MlpF0Z2H5",
        "outputId": "9777fc5b-950f-4469-a156-3292531d7117",
        "colab": {
          "base_uri": "https://localhost:8080/",
          "height": 175
        }
      },
      "outputs": [
        {
          "output_type": "execute_result",
          "data": {
            "text/plain": [
              "             Category  Sex\n",
              "count             615  615\n",
              "unique              5    2\n",
              "top     0=Blood Donor    m\n",
              "freq              533  377"
            ],
            "text/html": [
              "\n",
              "  <div id=\"df-a773c029-1440-49aa-b581-3d46c0050594\">\n",
              "    <div class=\"colab-df-container\">\n",
              "      <div>\n",
              "<style scoped>\n",
              "    .dataframe tbody tr th:only-of-type {\n",
              "        vertical-align: middle;\n",
              "    }\n",
              "\n",
              "    .dataframe tbody tr th {\n",
              "        vertical-align: top;\n",
              "    }\n",
              "\n",
              "    .dataframe thead th {\n",
              "        text-align: right;\n",
              "    }\n",
              "</style>\n",
              "<table border=\"1\" class=\"dataframe\">\n",
              "  <thead>\n",
              "    <tr style=\"text-align: right;\">\n",
              "      <th></th>\n",
              "      <th>Category</th>\n",
              "      <th>Sex</th>\n",
              "    </tr>\n",
              "  </thead>\n",
              "  <tbody>\n",
              "    <tr>\n",
              "      <th>count</th>\n",
              "      <td>615</td>\n",
              "      <td>615</td>\n",
              "    </tr>\n",
              "    <tr>\n",
              "      <th>unique</th>\n",
              "      <td>5</td>\n",
              "      <td>2</td>\n",
              "    </tr>\n",
              "    <tr>\n",
              "      <th>top</th>\n",
              "      <td>0=Blood Donor</td>\n",
              "      <td>m</td>\n",
              "    </tr>\n",
              "    <tr>\n",
              "      <th>freq</th>\n",
              "      <td>533</td>\n",
              "      <td>377</td>\n",
              "    </tr>\n",
              "  </tbody>\n",
              "</table>\n",
              "</div>\n",
              "      <button class=\"colab-df-convert\" onclick=\"convertToInteractive('df-a773c029-1440-49aa-b581-3d46c0050594')\"\n",
              "              title=\"Convert this dataframe to an interactive table.\"\n",
              "              style=\"display:none;\">\n",
              "        \n",
              "  <svg xmlns=\"http://www.w3.org/2000/svg\" height=\"24px\"viewBox=\"0 0 24 24\"\n",
              "       width=\"24px\">\n",
              "    <path d=\"M0 0h24v24H0V0z\" fill=\"none\"/>\n",
              "    <path d=\"M18.56 5.44l.94 2.06.94-2.06 2.06-.94-2.06-.94-.94-2.06-.94 2.06-2.06.94zm-11 1L8.5 8.5l.94-2.06 2.06-.94-2.06-.94L8.5 2.5l-.94 2.06-2.06.94zm10 10l.94 2.06.94-2.06 2.06-.94-2.06-.94-.94-2.06-.94 2.06-2.06.94z\"/><path d=\"M17.41 7.96l-1.37-1.37c-.4-.4-.92-.59-1.43-.59-.52 0-1.04.2-1.43.59L10.3 9.45l-7.72 7.72c-.78.78-.78 2.05 0 2.83L4 21.41c.39.39.9.59 1.41.59.51 0 1.02-.2 1.41-.59l7.78-7.78 2.81-2.81c.8-.78.8-2.07 0-2.86zM5.41 20L4 18.59l7.72-7.72 1.47 1.35L5.41 20z\"/>\n",
              "  </svg>\n",
              "      </button>\n",
              "      \n",
              "  <style>\n",
              "    .colab-df-container {\n",
              "      display:flex;\n",
              "      flex-wrap:wrap;\n",
              "      gap: 12px;\n",
              "    }\n",
              "\n",
              "    .colab-df-convert {\n",
              "      background-color: #E8F0FE;\n",
              "      border: none;\n",
              "      border-radius: 50%;\n",
              "      cursor: pointer;\n",
              "      display: none;\n",
              "      fill: #1967D2;\n",
              "      height: 32px;\n",
              "      padding: 0 0 0 0;\n",
              "      width: 32px;\n",
              "    }\n",
              "\n",
              "    .colab-df-convert:hover {\n",
              "      background-color: #E2EBFA;\n",
              "      box-shadow: 0px 1px 2px rgba(60, 64, 67, 0.3), 0px 1px 3px 1px rgba(60, 64, 67, 0.15);\n",
              "      fill: #174EA6;\n",
              "    }\n",
              "\n",
              "    [theme=dark] .colab-df-convert {\n",
              "      background-color: #3B4455;\n",
              "      fill: #D2E3FC;\n",
              "    }\n",
              "\n",
              "    [theme=dark] .colab-df-convert:hover {\n",
              "      background-color: #434B5C;\n",
              "      box-shadow: 0px 1px 3px 1px rgba(0, 0, 0, 0.15);\n",
              "      filter: drop-shadow(0px 1px 2px rgba(0, 0, 0, 0.3));\n",
              "      fill: #FFFFFF;\n",
              "    }\n",
              "  </style>\n",
              "\n",
              "      <script>\n",
              "        const buttonEl =\n",
              "          document.querySelector('#df-a773c029-1440-49aa-b581-3d46c0050594 button.colab-df-convert');\n",
              "        buttonEl.style.display =\n",
              "          google.colab.kernel.accessAllowed ? 'block' : 'none';\n",
              "\n",
              "        async function convertToInteractive(key) {\n",
              "          const element = document.querySelector('#df-a773c029-1440-49aa-b581-3d46c0050594');\n",
              "          const dataTable =\n",
              "            await google.colab.kernel.invokeFunction('convertToInteractive',\n",
              "                                                     [key], {});\n",
              "          if (!dataTable) return;\n",
              "\n",
              "          const docLinkHtml = 'Like what you see? Visit the ' +\n",
              "            '<a target=\"_blank\" href=https://colab.research.google.com/notebooks/data_table.ipynb>data table notebook</a>'\n",
              "            + ' to learn more about interactive tables.';\n",
              "          element.innerHTML = '';\n",
              "          dataTable['output_type'] = 'display_data';\n",
              "          await google.colab.output.renderOutput(dataTable, element);\n",
              "          const docLink = document.createElement('div');\n",
              "          docLink.innerHTML = docLinkHtml;\n",
              "          element.appendChild(docLink);\n",
              "        }\n",
              "      </script>\n",
              "    </div>\n",
              "  </div>\n",
              "  "
            ]
          },
          "metadata": {},
          "execution_count": 165
        }
      ],
      "source": [
        "df.describe(include=object) #statistical summary of the string/obj columns in the df"
      ]
    },
    {
      "cell_type": "code",
      "execution_count": 166,
      "metadata": {
        "id": "61XRzY07Z2H6"
      },
      "outputs": [],
      "source": [
        "df[[\"Label\", \"Category\"]] = (   # Create two new features\n",
        "    df[\"Category\"]              # from the Policy feature i.e category\n",
        "    .str                        # through the string accessor\n",
        "    .split(\"=\", expand=True)    # by splitting on \" \"\n",
        "                                # and expanding the result into separate columns\n",
        ")"
      ]
    },
    {
      "cell_type": "code",
      "execution_count": 167,
      "metadata": {
        "id": "qNfbYLakZ2H7",
        "outputId": "eadedfee-3e6f-4412-93c1-3f3311d9c712",
        "colab": {
          "base_uri": "https://localhost:8080/",
          "height": 663
        }
      },
      "outputs": [
        {
          "output_type": "stream",
          "name": "stderr",
          "text": [
            "<ipython-input-167-5d3eb864bfc7>:1: UserWarning: \n",
            "\n",
            "`distplot` is a deprecated function and will be removed in seaborn v0.14.0.\n",
            "\n",
            "Please adapt your code to use either `displot` (a figure-level function with\n",
            "similar flexibility) or `histplot` (an axes-level function for histograms).\n",
            "\n",
            "For a guide to updating your code to use the new functions, please see\n",
            "https://gist.github.com/mwaskom/de44147ed2974457ad6372750bbe5751\n",
            "\n",
            "  sns.distplot(df['Age']) #plotting histogram and kde plot using age\n"
          ]
        },
        {
          "output_type": "execute_result",
          "data": {
            "text/plain": [
              "<Axes: xlabel='Age', ylabel='Density'>"
            ]
          },
          "metadata": {},
          "execution_count": 167
        },
        {
          "output_type": "display_data",
          "data": {
            "text/plain": [
              "<Figure size 640x480 with 1 Axes>"
            ],
            "image/png": "[encoded data removed]"
          },
          "metadata": {}
        }
      ],
      "source": [
        "sns.distplot(df['Age']) #plotting histogram and kde plot using age"
      ]
    },
    {
      "cell_type": "code",
      "execution_count": 168,
      "metadata": {
        "id": "oAtbTkMHZ2H7",
        "outputId": "3b33450b-d9f3-4371-8708-cbeb4e363a33",
        "colab": {
          "base_uri": "https://localhost:8080/",
          "height": 467
        }
      },
      "outputs": [
        {
          "output_type": "execute_result",
          "data": {
            "text/plain": [
              "<Axes: xlabel='Category', ylabel='Age'>"
            ]
          },
          "metadata": {},
          "execution_count": 168
        },
        {
          "output_type": "display_data",
          "data": {
            "text/plain": [
              "<Figure size 640x480 with 1 Axes>"
            ],
            "image/png": "[encoded data removed]"
          },
          "metadata": {}
        }
      ],
      "source": [
        "# Age and sex with survived\n",
        "sns.boxplot(data=df, x='Category', y='Age')"
      ]
    },
    {
      "cell_type": "code",
      "execution_count": 169,
      "metadata": {
        "id": "G89k_WJ-Z2H7",
        "outputId": "51d0a536-6979-4291-a20c-b1d3b5a8e0c1",
        "colab": {
          "base_uri": "https://localhost:8080/",
          "height": 467
        }
      },
      "outputs": [
        {
          "output_type": "execute_result",
          "data": {
            "text/plain": [
              "<Axes: xlabel='Age', ylabel='Sex'>"
            ]
          },
          "metadata": {},
          "execution_count": 169
        },
        {
          "output_type": "display_data",
          "data": {
            "text/plain": [
              "<Figure size 640x480 with 1 Axes>"
            ],
            "image/png": "[encoded data removed]"
          },
          "metadata": {}
        }
      ],
      "source": [
        "sns.boxplot(data=df, x='Age', y='Sex', hue ='Category')"
      ]
    },
    {
      "cell_type": "code",
      "execution_count": 170,
      "metadata": {
        "id": "jNyDQzDDZ2H7",
        "outputId": "f956b72b-9e16-464f-b213-4585af51519c",
        "colab": {
          "base_uri": "https://localhost:8080/"
        }
      },
      "outputs": [
        {
          "output_type": "execute_result",
          "data": {
            "text/plain": [
              "array(['Blood Donor', 'suspect Blood Donor', 'Hepatitis', 'Fibrosis',\n",
              "       'Cirrhosis'], dtype=object)"
            ]
          },
          "metadata": {},
          "execution_count": 170
        }
      ],
      "source": [
        "df['Category'].unique()"
      ]
    },
    {
      "cell_type": "code",
      "execution_count": 171,
      "metadata": {
        "id": "cGN3i9KeZ2H8",
        "outputId": "a1a30f96-f142-40cb-9ca0-417e2e6904fb",
        "colab": {
          "base_uri": "https://localhost:8080/",
          "height": 481
        }
      },
      "outputs": [
        {
          "output_type": "stream",
          "name": "stderr",
          "text": [
            "<ipython-input-171-031be9911b25>:1: FutureWarning: The default value of numeric_only in DataFrame.corr is deprecated. In a future version, it will default to False. Select only valid columns or specify the value of numeric_only to silence this warning.\n",
            "  df.corr().style.background_gradient(cmap = 'viridis') #exploring the correlation between numerical variables\n"
          ]
        },
        {
          "output_type": "execute_result",
          "data": {
            "text/plain": [
              "<pandas.io.formats.style.Styler at 0x7f64fce06d90>"
            ],
            "text/html": [
              "<style type=\"text/css\">\n",
              "#T_32909_row0_col0, #T_32909_row1_col1, #T_32909_row2_col2, #T_32909_row3_col3, #T_32909_row4_col4, #T_32909_row5_col5, #T_32909_row6_col6, #T_32909_row7_col7, #T_32909_row8_col8, #T_32909_row9_col9, #T_32909_row10_col10, #T_32909_row11_col11 {\n",
              "  background-color: #fde725;\n",
              "  color: #000000;\n",
              "}\n",
              "#T_32909_row0_col1 {\n",
              "  background-color: #481769;\n",
              "  color: #f1f1f1;\n",
              "}\n",
              "#T_32909_row0_col2, #T_32909_row0_col5, #T_32909_row2_col6 {\n",
              "  background-color: #38598c;\n",
              "  color: #f1f1f1;\n",
              "}\n",
              "#T_32909_row0_col3, #T_32909_row3_col0 {\n",
              "  background-color: #453781;\n",
              "  color: #f1f1f1;\n",
              "}\n",
              "#T_32909_row0_col4 {\n",
              "  background-color: #3b518b;\n",
              "  color: #f1f1f1;\n",
              "}\n",
              "#T_32909_row0_col6, #T_32909_row5_col0 {\n",
              "  background-color: #424186;\n",
              "  color: #f1f1f1;\n",
              "}\n",
              "#T_32909_row0_col7, #T_32909_row2_col7, #T_32909_row7_col10 {\n",
              "  background-color: #32648e;\n",
              "  color: #f1f1f1;\n",
              "}\n",
              "#T_32909_row0_col8, #T_32909_row4_col8 {\n",
              "  background-color: #460a5d;\n",
              "  color: #f1f1f1;\n",
              "}\n",
              "#T_32909_row0_col9, #T_32909_row11_col0 {\n",
              "  background-color: #39568c;\n",
              "  color: #f1f1f1;\n",
              "}\n",
              "#T_32909_row0_col10, #T_32909_row3_col8, #T_32909_row11_col6 {\n",
              "  background-color: #440256;\n",
              "  color: #f1f1f1;\n",
              "}\n",
              "#T_32909_row0_col11 {\n",
              "  background-color: #30698e;\n",
              "  color: #f1f1f1;\n",
              "}\n",
              "#T_32909_row1_col0, #T_32909_row1_col2, #T_32909_row1_col9, #T_32909_row5_col6, #T_32909_row6_col4, #T_32909_row6_col5, #T_32909_row6_col11, #T_32909_row7_col4, #T_32909_row7_col8, #T_32909_row11_col1, #T_32909_row11_col3, #T_32909_row11_col7, #T_32909_row11_col10 {\n",
              "  background-color: #440154;\n",
              "  color: #f1f1f1;\n",
              "}\n",
              "#T_32909_row1_col3, #T_32909_row9_col6 {\n",
              "  background-color: #443983;\n",
              "  color: #f1f1f1;\n",
              "}\n",
              "#T_32909_row1_col4, #T_32909_row10_col8 {\n",
              "  background-color: #450559;\n",
              "  color: #f1f1f1;\n",
              "}\n",
              "#T_32909_row1_col5 {\n",
              "  background-color: #481f70;\n",
              "  color: #f1f1f1;\n",
              "}\n",
              "#T_32909_row1_col6 {\n",
              "  background-color: #1f988b;\n",
              "  color: #f1f1f1;\n",
              "}\n",
              "#T_32909_row1_col7, #T_32909_row7_col1, #T_32909_row10_col7 {\n",
              "  background-color: #2c738e;\n",
              "  color: #f1f1f1;\n",
              "}\n",
              "#T_32909_row1_col8 {\n",
              "  background-color: #471164;\n",
              "  color: #f1f1f1;\n",
              "}\n",
              "#T_32909_row1_col10 {\n",
              "  background-color: #26ad81;\n",
              "  color: #f1f1f1;\n",
              "}\n",
              "#T_32909_row1_col11, #T_32909_row10_col0 {\n",
              "  background-color: #470e61;\n",
              "  color: #f1f1f1;\n",
              "}\n",
              "#T_32909_row2_col0, #T_32909_row3_col2 {\n",
              "  background-color: #33628d;\n",
              "  color: #f1f1f1;\n",
              "}\n",
              "#T_32909_row2_col1, #T_32909_row6_col0 {\n",
              "  background-color: #482576;\n",
              "  color: #f1f1f1;\n",
              "}\n",
              "#T_32909_row2_col3 {\n",
              "  background-color: #306a8e;\n",
              "  color: #f1f1f1;\n",
              "}\n",
              "#T_32909_row2_col4 {\n",
              "  background-color: #3e4a89;\n",
              "  color: #f1f1f1;\n",
              "}\n",
              "#T_32909_row2_col5, #T_32909_row2_col11, #T_32909_row9_col0 {\n",
              "  background-color: #365d8d;\n",
              "  color: #f1f1f1;\n",
              "}\n",
              "#T_32909_row2_col8 {\n",
              "  background-color: #424086;\n",
              "  color: #f1f1f1;\n",
              "}\n",
              "#T_32909_row2_col9 {\n",
              "  background-color: #1f978b;\n",
              "  color: #f1f1f1;\n",
              "}\n",
              "#T_32909_row2_col10, #T_32909_row4_col6 {\n",
              "  background-color: #482173;\n",
              "  color: #f1f1f1;\n",
              "}\n",
              "#T_32909_row3_col1 {\n",
              "  background-color: #3f4889;\n",
              "  color: #f1f1f1;\n",
              "}\n",
              "#T_32909_row3_col4 {\n",
              "  background-color: #2a788e;\n",
              "  color: #f1f1f1;\n",
              "}\n",
              "#T_32909_row3_col5, #T_32909_row3_col10, #T_32909_row7_col3 {\n",
              "  background-color: #3e4989;\n",
              "  color: #f1f1f1;\n",
              "}\n",
              "#T_32909_row3_col6 {\n",
              "  background-color: #2e6f8e;\n",
              "  color: #f1f1f1;\n",
              "}\n",
              "#T_32909_row3_col7, #T_32909_row7_col0, #T_32909_row8_col5 {\n",
              "  background-color: #38588c;\n",
              "  color: #f1f1f1;\n",
              "}\n",
              "#T_32909_row3_col9 {\n",
              "  background-color: #2f6c8e;\n",
              "  color: #f1f1f1;\n",
              "}\n",
              "#T_32909_row3_col11 {\n",
              "  background-color: #482475;\n",
              "  color: #f1f1f1;\n",
              "}\n",
              "#T_32909_row4_col0, #T_32909_row8_col6, #T_32909_row8_col9 {\n",
              "  background-color: #3c4f8a;\n",
              "  color: #f1f1f1;\n",
              "}\n",
              "#T_32909_row4_col1 {\n",
              "  background-color: #48186a;\n",
              "  color: #f1f1f1;\n",
              "}\n",
              "#T_32909_row4_col2, #T_32909_row8_col7 {\n",
              "  background-color: #433e85;\n",
              "  color: #f1f1f1;\n",
              "}\n",
              "#T_32909_row4_col3, #T_32909_row6_col10 {\n",
              "  background-color: #2a768e;\n",
              "  color: #f1f1f1;\n",
              "}\n",
              "#T_32909_row4_col5 {\n",
              "  background-color: #228c8d;\n",
              "  color: #f1f1f1;\n",
              "}\n",
              "#T_32909_row4_col7 {\n",
              "  background-color: #481668;\n",
              "  color: #f1f1f1;\n",
              "}\n",
              "#T_32909_row4_col9 {\n",
              "  background-color: #1f9f88;\n",
              "  color: #f1f1f1;\n",
              "}\n",
              "#T_32909_row4_col10, #T_32909_row5_col2, #T_32909_row11_col2 {\n",
              "  background-color: #443b84;\n",
              "  color: #f1f1f1;\n",
              "}\n",
              "#T_32909_row4_col11, #T_32909_row6_col7 {\n",
              "  background-color: #1e9d89;\n",
              "  color: #f1f1f1;\n",
              "}\n",
              "#T_32909_row5_col1, #T_32909_row6_col9 {\n",
              "  background-color: #471063;\n",
              "  color: #f1f1f1;\n",
              "}\n",
              "#T_32909_row5_col3 {\n",
              "  background-color: #472e7c;\n",
              "  color: #f1f1f1;\n",
              "}\n",
              "#T_32909_row5_col4 {\n",
              "  background-color: #27808e;\n",
              "  color: #f1f1f1;\n",
              "}\n",
              "#T_32909_row5_col7 {\n",
              "  background-color: #481d6f;\n",
              "  color: #f1f1f1;\n",
              "}\n",
              "#T_32909_row5_col8, #T_32909_row10_col2 {\n",
              "  background-color: #481c6e;\n",
              "  color: #f1f1f1;\n",
              "}\n",
              "#T_32909_row5_col9, #T_32909_row11_col9 {\n",
              "  background-color: #32658e;\n",
              "  color: #f1f1f1;\n",
              "}\n",
              "#T_32909_row5_col10, #T_32909_row9_col1 {\n",
              "  background-color: #482374;\n",
              "  color: #f1f1f1;\n",
              "}\n",
              "#T_32909_row5_col11, #T_32909_row11_col5 {\n",
              "  background-color: #1fa088;\n",
              "  color: #f1f1f1;\n",
              "}\n",
              "#T_32909_row6_col1, #T_32909_row11_col4 {\n",
              "  background-color: #20928c;\n",
              "  color: #f1f1f1;\n",
              "}\n",
              "#T_32909_row6_col2, #T_32909_row8_col4 {\n",
              "  background-color: #453581;\n",
              "  color: #f1f1f1;\n",
              "}\n",
              "#T_32909_row6_col3 {\n",
              "  background-color: #365c8d;\n",
              "  color: #f1f1f1;\n",
              "}\n",
              "#T_32909_row6_col8, #T_32909_row7_col11 {\n",
              "  background-color: #470d60;\n",
              "  color: #f1f1f1;\n",
              "}\n",
              "#T_32909_row7_col2 {\n",
              "  background-color: #3d4d8a;\n",
              "  color: #f1f1f1;\n",
              "}\n",
              "#T_32909_row7_col5 {\n",
              "  background-color: #482979;\n",
              "  color: #f1f1f1;\n",
              "}\n",
              "#T_32909_row7_col6 {\n",
              "  background-color: #1fa188;\n",
              "  color: #f1f1f1;\n",
              "}\n",
              "#T_32909_row7_col9, #T_32909_row8_col3, #T_32909_row9_col10, #T_32909_row10_col11 {\n",
              "  background-color: #472d7b;\n",
              "  color: #f1f1f1;\n",
              "}\n",
              "#T_32909_row8_col0 {\n",
              "  background-color: #46337f;\n",
              "  color: #f1f1f1;\n",
              "}\n",
              "#T_32909_row8_col1, #T_32909_row9_col7, #T_32909_row10_col5 {\n",
              "  background-color: #3f4788;\n",
              "  color: #f1f1f1;\n",
              "}\n",
              "#T_32909_row8_col2 {\n",
              "  background-color: #3a538b;\n",
              "  color: #f1f1f1;\n",
              "}\n",
              "#T_32909_row8_col10 {\n",
              "  background-color: #482878;\n",
              "  color: #f1f1f1;\n",
              "}\n",
              "#T_32909_row8_col11 {\n",
              "  background-color: #31678e;\n",
              "  color: #f1f1f1;\n",
              "}\n",
              "#T_32909_row9_col2 {\n",
              "  background-color: #1f958b;\n",
              "  color: #f1f1f1;\n",
              "}\n",
              "#T_32909_row9_col3 {\n",
              "  background-color: #2d718e;\n",
              "  color: #f1f1f1;\n",
              "}\n",
              "#T_32909_row9_col4 {\n",
              "  background-color: #20a386;\n",
              "  color: #f1f1f1;\n",
              "}\n",
              "#T_32909_row9_col5 {\n",
              "  background-color: #297b8e;\n",
              "  color: #f1f1f1;\n",
              "}\n",
              "#T_32909_row9_col8 {\n",
              "  background-color: #453882;\n",
              "  color: #f1f1f1;\n",
              "}\n",
              "#T_32909_row9_col11 {\n",
              "  background-color: #297a8e;\n",
              "  color: #f1f1f1;\n",
              "}\n",
              "#T_32909_row10_col1 {\n",
              "  background-color: #31b57b;\n",
              "  color: #f1f1f1;\n",
              "}\n",
              "#T_32909_row10_col3 {\n",
              "  background-color: #3c508b;\n",
              "  color: #f1f1f1;\n",
              "}\n",
              "#T_32909_row10_col4 {\n",
              "  background-color: #404588;\n",
              "  color: #f1f1f1;\n",
              "}\n",
              "#T_32909_row10_col6 {\n",
              "  background-color: #23898e;\n",
              "  color: #f1f1f1;\n",
              "}\n",
              "#T_32909_row10_col9 {\n",
              "  background-color: #472c7a;\n",
              "  color: #f1f1f1;\n",
              "}\n",
              "#T_32909_row11_col8 {\n",
              "  background-color: #463480;\n",
              "  color: #f1f1f1;\n",
              "}\n",
              "</style>\n",
              "<table id=\"T_32909\" class=\"dataframe\">\n",
              "  <thead>\n",
              "    <tr>\n",
              "      <th class=\"blank level0\" >&nbsp;</th>\n",
              "      <th id=\"T_32909_level0_col0\" class=\"col_heading level0 col0\" >Age</th>\n",
              "      <th id=\"T_32909_level0_col1\" class=\"col_heading level0 col1\" >ALB</th>\n",
              "      <th id=\"T_32909_level0_col2\" class=\"col_heading level0 col2\" >ALP</th>\n",
              "      <th id=\"T_32909_level0_col3\" class=\"col_heading level0 col3\" >ALT</th>\n",
              "      <th id=\"T_32909_level0_col4\" class=\"col_heading level0 col4\" >AST</th>\n",
              "      <th id=\"T_32909_level0_col5\" class=\"col_heading level0 col5\" >BIL</th>\n",
              "      <th id=\"T_32909_level0_col6\" class=\"col_heading level0 col6\" >CHE</th>\n",
              "      <th id=\"T_32909_level0_col7\" class=\"col_heading level0 col7\" >CHOL</th>\n",
              "      <th id=\"T_32909_level0_col8\" class=\"col_heading level0 col8\" >CREA</th>\n",
              "      <th id=\"T_32909_level0_col9\" class=\"col_heading level0 col9\" >GGT</th>\n",
              "      <th id=\"T_32909_level0_col10\" class=\"col_heading level0 col10\" >PROT</th>\n",
              "      <th id=\"T_32909_level0_col11\" class=\"col_heading level0 col11\" >Enzyme Ratio</th>\n",
              "    </tr>\n",
              "  </thead>\n",
              "  <tbody>\n",
              "    <tr>\n",
              "      <th id=\"T_32909_level0_row0\" class=\"row_heading level0 row0\" >Age</th>\n",
              "      <td id=\"T_32909_row0_col0\" class=\"data row0 col0\" >1.000000</td>\n",
              "      <td id=\"T_32909_row0_col1\" class=\"data row0 col1\" >-0.197498</td>\n",
              "      <td id=\"T_32909_row0_col2\" class=\"data row0 col2\" >0.173340</td>\n",
              "      <td id=\"T_32909_row0_col3\" class=\"data row0 col3\" >-0.006021</td>\n",
              "      <td id=\"T_32909_row0_col4\" class=\"data row0 col4\" >0.088666</td>\n",
              "      <td id=\"T_32909_row0_col5\" class=\"data row0 col5\" >0.032492</td>\n",
              "      <td id=\"T_32909_row0_col6\" class=\"data row0 col6\" >-0.075093</td>\n",
              "      <td id=\"T_32909_row0_col7\" class=\"data row0 col7\" >0.125641</td>\n",
              "      <td id=\"T_32909_row0_col8\" class=\"data row0 col8\" >-0.022296</td>\n",
              "      <td id=\"T_32909_row0_col9\" class=\"data row0 col9\" >0.153087</td>\n",
              "      <td id=\"T_32909_row0_col10\" class=\"data row0 col10\" >-0.153668</td>\n",
              "      <td id=\"T_32909_row0_col11\" class=\"data row0 col11\" >0.123112</td>\n",
              "    </tr>\n",
              "    <tr>\n",
              "      <th id=\"T_32909_level0_row1\" class=\"row_heading level0 row1\" >ALB</th>\n",
              "      <td id=\"T_32909_row1_col0\" class=\"data row1 col0\" >-0.197498</td>\n",
              "      <td id=\"T_32909_row1_col1\" class=\"data row1 col1\" >1.000000</td>\n",
              "      <td id=\"T_32909_row1_col2\" class=\"data row1 col2\" >-0.141584</td>\n",
              "      <td id=\"T_32909_row1_col3\" class=\"data row1 col3\" >0.001606</td>\n",
              "      <td id=\"T_32909_row1_col4\" class=\"data row1 col4\" >-0.193450</td>\n",
              "      <td id=\"T_32909_row1_col5\" class=\"data row1 col5\" >-0.221651</td>\n",
              "      <td id=\"T_32909_row1_col6\" class=\"data row1 col6\" >0.375878</td>\n",
              "      <td id=\"T_32909_row1_col7\" class=\"data row1 col7\" >0.208248</td>\n",
              "      <td id=\"T_32909_row1_col8\" class=\"data row1 col8\" >-0.001573</td>\n",
              "      <td id=\"T_32909_row1_col9\" class=\"data row1 col9\" >-0.155749</td>\n",
              "      <td id=\"T_32909_row1_col10\" class=\"data row1 col10\" >0.557197</td>\n",
              "      <td id=\"T_32909_row1_col11\" class=\"data row1 col11\" >-0.275400</td>\n",
              "    </tr>\n",
              "    <tr>\n",
              "      <th id=\"T_32909_level0_row2\" class=\"row_heading level0 row2\" >ALP</th>\n",
              "      <td id=\"T_32909_row2_col0\" class=\"data row2 col0\" >0.173340</td>\n",
              "      <td id=\"T_32909_row2_col1\" class=\"data row2 col1\" >-0.141584</td>\n",
              "      <td id=\"T_32909_row2_col2\" class=\"data row2 col2\" >1.000000</td>\n",
              "      <td id=\"T_32909_row2_col3\" class=\"data row2 col3\" >0.214480</td>\n",
              "      <td id=\"T_32909_row2_col4\" class=\"data row2 col4\" >0.063948</td>\n",
              "      <td id=\"T_32909_row2_col5\" class=\"data row2 col5\" >0.056078</td>\n",
              "      <td id=\"T_32909_row2_col6\" class=\"data row2 col6\" >0.033753</td>\n",
              "      <td id=\"T_32909_row2_col7\" class=\"data row2 col7\" >0.125429</td>\n",
              "      <td id=\"T_32909_row2_col8\" class=\"data row2 col8\" >0.149832</td>\n",
              "      <td id=\"T_32909_row2_col9\" class=\"data row2 col9\" >0.454630</td>\n",
              "      <td id=\"T_32909_row2_col10\" class=\"data row2 col10\" >-0.055109</td>\n",
              "      <td id=\"T_32909_row2_col11\" class=\"data row2 col11\" >0.057089</td>\n",
              "    </tr>\n",
              "    <tr>\n",
              "      <th id=\"T_32909_level0_row3\" class=\"row_heading level0 row3\" >ALT</th>\n",
              "      <td id=\"T_32909_row3_col0\" class=\"data row3 col0\" >-0.006021</td>\n",
              "      <td id=\"T_32909_row3_col1\" class=\"data row3 col1\" >0.001606</td>\n",
              "      <td id=\"T_32909_row3_col2\" class=\"data row3 col2\" >0.214480</td>\n",
              "      <td id=\"T_32909_row3_col3\" class=\"data row3 col3\" >1.000000</td>\n",
              "      <td id=\"T_32909_row3_col4\" class=\"data row3 col4\" >0.273326</td>\n",
              "      <td id=\"T_32909_row3_col5\" class=\"data row3 col5\" >-0.038469</td>\n",
              "      <td id=\"T_32909_row3_col6\" class=\"data row3 col6\" >0.147000</td>\n",
              "      <td id=\"T_32909_row3_col7\" class=\"data row3 col7\" >0.068947</td>\n",
              "      <td id=\"T_32909_row3_col8\" class=\"data row3 col8\" >-0.043025</td>\n",
              "      <td id=\"T_32909_row3_col9\" class=\"data row3 col9\" >0.248114</td>\n",
              "      <td id=\"T_32909_row3_col10\" class=\"data row3 col10\" >0.094730</td>\n",
              "      <td id=\"T_32909_row3_col11\" class=\"data row3 col11\" >-0.194941</td>\n",
              "    </tr>\n",
              "    <tr>\n",
              "      <th id=\"T_32909_level0_row4\" class=\"row_heading level0 row4\" >AST</th>\n",
              "      <td id=\"T_32909_row4_col0\" class=\"data row4 col0\" >0.088666</td>\n",
              "      <td id=\"T_32909_row4_col1\" class=\"data row4 col1\" >-0.193450</td>\n",
              "      <td id=\"T_32909_row4_col2\" class=\"data row4 col2\" >0.063948</td>\n",
              "      <td id=\"T_32909_row4_col3\" class=\"data row4 col3\" >0.273326</td>\n",
              "      <td id=\"T_32909_row4_col4\" class=\"data row4 col4\" >1.000000</td>\n",
              "      <td id=\"T_32909_row4_col5\" class=\"data row4 col5\" >0.312231</td>\n",
              "      <td id=\"T_32909_row4_col6\" class=\"data row4 col6\" >-0.208536</td>\n",
              "      <td id=\"T_32909_row4_col7\" class=\"data row4 col7\" >-0.209970</td>\n",
              "      <td id=\"T_32909_row4_col8\" class=\"data row4 col8\" >-0.021387</td>\n",
              "      <td id=\"T_32909_row4_col9\" class=\"data row4 col9\" >0.491263</td>\n",
              "      <td id=\"T_32909_row4_col10\" class=\"data row4 col10\" >0.040071</td>\n",
              "      <td id=\"T_32909_row4_col11\" class=\"data row4 col11\" >0.404940</td>\n",
              "    </tr>\n",
              "    <tr>\n",
              "      <th id=\"T_32909_level0_row5\" class=\"row_heading level0 row5\" >BIL</th>\n",
              "      <td id=\"T_32909_row5_col0\" class=\"data row5 col0\" >0.032492</td>\n",
              "      <td id=\"T_32909_row5_col1\" class=\"data row5 col1\" >-0.221651</td>\n",
              "      <td id=\"T_32909_row5_col2\" class=\"data row5 col2\" >0.056078</td>\n",
              "      <td id=\"T_32909_row5_col3\" class=\"data row5 col3\" >-0.038469</td>\n",
              "      <td id=\"T_32909_row5_col4\" class=\"data row5 col4\" >0.312231</td>\n",
              "      <td id=\"T_32909_row5_col5\" class=\"data row5 col5\" >1.000000</td>\n",
              "      <td id=\"T_32909_row5_col6\" class=\"data row5 col6\" >-0.333172</td>\n",
              "      <td id=\"T_32909_row5_col7\" class=\"data row5 col7\" >-0.180370</td>\n",
              "      <td id=\"T_32909_row5_col8\" class=\"data row5 col8\" >0.031224</td>\n",
              "      <td id=\"T_32909_row5_col9\" class=\"data row5 col9\" >0.217024</td>\n",
              "      <td id=\"T_32909_row5_col10\" class=\"data row5 col10\" >-0.047638</td>\n",
              "      <td id=\"T_32909_row5_col11\" class=\"data row5 col11\" >0.420458</td>\n",
              "    </tr>\n",
              "    <tr>\n",
              "      <th id=\"T_32909_level0_row6\" class=\"row_heading level0 row6\" >CHE</th>\n",
              "      <td id=\"T_32909_row6_col0\" class=\"data row6 col0\" >-0.075093</td>\n",
              "      <td id=\"T_32909_row6_col1\" class=\"data row6 col1\" >0.375878</td>\n",
              "      <td id=\"T_32909_row6_col2\" class=\"data row6 col2\" >0.033753</td>\n",
              "      <td id=\"T_32909_row6_col3\" class=\"data row6 col3\" >0.147000</td>\n",
              "      <td id=\"T_32909_row6_col4\" class=\"data row6 col4\" >-0.208536</td>\n",
              "      <td id=\"T_32909_row6_col5\" class=\"data row6 col5\" >-0.333172</td>\n",
              "      <td id=\"T_32909_row6_col6\" class=\"data row6 col6\" >1.000000</td>\n",
              "      <td id=\"T_32909_row6_col7\" class=\"data row6 col7\" >0.425456</td>\n",
              "      <td id=\"T_32909_row6_col8\" class=\"data row6 col8\" >-0.011157</td>\n",
              "      <td id=\"T_32909_row6_col9\" class=\"data row6 col9\" >-0.110345</td>\n",
              "      <td id=\"T_32909_row6_col10\" class=\"data row6 col10\" >0.295427</td>\n",
              "      <td id=\"T_32909_row6_col11\" class=\"data row6 col11\" >-0.327074</td>\n",
              "    </tr>\n",
              "    <tr>\n",
              "      <th id=\"T_32909_level0_row7\" class=\"row_heading level0 row7\" >CHOL</th>\n",
              "      <td id=\"T_32909_row7_col0\" class=\"data row7 col0\" >0.125641</td>\n",
              "      <td id=\"T_32909_row7_col1\" class=\"data row7 col1\" >0.208248</td>\n",
              "      <td id=\"T_32909_row7_col2\" class=\"data row7 col2\" >0.125429</td>\n",
              "      <td id=\"T_32909_row7_col3\" class=\"data row7 col3\" >0.068947</td>\n",
              "      <td id=\"T_32909_row7_col4\" class=\"data row7 col4\" >-0.209970</td>\n",
              "      <td id=\"T_32909_row7_col5\" class=\"data row7 col5\" >-0.180370</td>\n",
              "      <td id=\"T_32909_row7_col6\" class=\"data row7 col6\" >0.425456</td>\n",
              "      <td id=\"T_32909_row7_col7\" class=\"data row7 col7\" >1.000000</td>\n",
              "      <td id=\"T_32909_row7_col8\" class=\"data row7 col8\" >-0.047744</td>\n",
              "      <td id=\"T_32909_row7_col9\" class=\"data row7 col9\" >-0.006895</td>\n",
              "      <td id=\"T_32909_row7_col10\" class=\"data row7 col10\" >0.207071</td>\n",
              "      <td id=\"T_32909_row7_col11\" class=\"data row7 col11\" >-0.280696</td>\n",
              "    </tr>\n",
              "    <tr>\n",
              "      <th id=\"T_32909_level0_row8\" class=\"row_heading level0 row8\" >CREA</th>\n",
              "      <td id=\"T_32909_row8_col0\" class=\"data row8 col0\" >-0.022296</td>\n",
              "      <td id=\"T_32909_row8_col1\" class=\"data row8 col1\" >-0.001573</td>\n",
              "      <td id=\"T_32909_row8_col2\" class=\"data row8 col2\" >0.149832</td>\n",
              "      <td id=\"T_32909_row8_col3\" class=\"data row8 col3\" >-0.043025</td>\n",
              "      <td id=\"T_32909_row8_col4\" class=\"data row8 col4\" >-0.021387</td>\n",
              "      <td id=\"T_32909_row8_col5\" class=\"data row8 col5\" >0.031224</td>\n",
              "      <td id=\"T_32909_row8_col6\" class=\"data row8 col6\" >-0.011157</td>\n",
              "      <td id=\"T_32909_row8_col7\" class=\"data row8 col7\" >-0.047744</td>\n",
              "      <td id=\"T_32909_row8_col8\" class=\"data row8 col8\" >1.000000</td>\n",
              "      <td id=\"T_32909_row8_col9\" class=\"data row8 col9\" >0.121003</td>\n",
              "      <td id=\"T_32909_row8_col10\" class=\"data row8 col10\" >-0.031704</td>\n",
              "      <td id=\"T_32909_row8_col11\" class=\"data row8 col11\" >0.110360</td>\n",
              "    </tr>\n",
              "    <tr>\n",
              "      <th id=\"T_32909_level0_row9\" class=\"row_heading level0 row9\" >GGT</th>\n",
              "      <td id=\"T_32909_row9_col0\" class=\"data row9 col0\" >0.153087</td>\n",
              "      <td id=\"T_32909_row9_col1\" class=\"data row9 col1\" >-0.155749</td>\n",
              "      <td id=\"T_32909_row9_col2\" class=\"data row9 col2\" >0.454630</td>\n",
              "      <td id=\"T_32909_row9_col3\" class=\"data row9 col3\" >0.248114</td>\n",
              "      <td id=\"T_32909_row9_col4\" class=\"data row9 col4\" >0.491263</td>\n",
              "      <td id=\"T_32909_row9_col5\" class=\"data row9 col5\" >0.217024</td>\n",
              "      <td id=\"T_32909_row9_col6\" class=\"data row9 col6\" >-0.110345</td>\n",
              "      <td id=\"T_32909_row9_col7\" class=\"data row9 col7\" >-0.006895</td>\n",
              "      <td id=\"T_32909_row9_col8\" class=\"data row9 col8\" >0.121003</td>\n",
              "      <td id=\"T_32909_row9_col9\" class=\"data row9 col9\" >1.000000</td>\n",
              "      <td id=\"T_32909_row9_col10\" class=\"data row9 col10\" >-0.011767</td>\n",
              "      <td id=\"T_32909_row9_col11\" class=\"data row9 col11\" >0.214797</td>\n",
              "    </tr>\n",
              "    <tr>\n",
              "      <th id=\"T_32909_level0_row10\" class=\"row_heading level0 row10\" >PROT</th>\n",
              "      <td id=\"T_32909_row10_col0\" class=\"data row10 col0\" >-0.153668</td>\n",
              "      <td id=\"T_32909_row10_col1\" class=\"data row10 col1\" >0.557197</td>\n",
              "      <td id=\"T_32909_row10_col2\" class=\"data row10 col2\" >-0.055109</td>\n",
              "      <td id=\"T_32909_row10_col3\" class=\"data row10 col3\" >0.094730</td>\n",
              "      <td id=\"T_32909_row10_col4\" class=\"data row10 col4\" >0.040071</td>\n",
              "      <td id=\"T_32909_row10_col5\" class=\"data row10 col5\" >-0.047638</td>\n",
              "      <td id=\"T_32909_row10_col6\" class=\"data row10 col6\" >0.295427</td>\n",
              "      <td id=\"T_32909_row10_col7\" class=\"data row10 col7\" >0.207071</td>\n",
              "      <td id=\"T_32909_row10_col8\" class=\"data row10 col8\" >-0.031704</td>\n",
              "      <td id=\"T_32909_row10_col9\" class=\"data row10 col9\" >-0.011767</td>\n",
              "      <td id=\"T_32909_row10_col10\" class=\"data row10 col10\" >1.000000</td>\n",
              "      <td id=\"T_32909_row10_col11\" class=\"data row10 col11\" >-0.160303</td>\n",
              "    </tr>\n",
              "    <tr>\n",
              "      <th id=\"T_32909_level0_row11\" class=\"row_heading level0 row11\" >Enzyme Ratio</th>\n",
              "      <td id=\"T_32909_row11_col0\" class=\"data row11 col0\" >0.123112</td>\n",
              "      <td id=\"T_32909_row11_col1\" class=\"data row11 col1\" >-0.275400</td>\n",
              "      <td id=\"T_32909_row11_col2\" class=\"data row11 col2\" >0.057089</td>\n",
              "      <td id=\"T_32909_row11_col3\" class=\"data row11 col3\" >-0.194941</td>\n",
              "      <td id=\"T_32909_row11_col4\" class=\"data row11 col4\" >0.404940</td>\n",
              "      <td id=\"T_32909_row11_col5\" class=\"data row11 col5\" >0.420458</td>\n",
              "      <td id=\"T_32909_row11_col6\" class=\"data row11 col6\" >-0.327074</td>\n",
              "      <td id=\"T_32909_row11_col7\" class=\"data row11 col7\" >-0.280696</td>\n",
              "      <td id=\"T_32909_row11_col8\" class=\"data row11 col8\" >0.110360</td>\n",
              "      <td id=\"T_32909_row11_col9\" class=\"data row11 col9\" >0.214797</td>\n",
              "      <td id=\"T_32909_row11_col10\" class=\"data row11 col10\" >-0.160303</td>\n",
              "      <td id=\"T_32909_row11_col11\" class=\"data row11 col11\" >1.000000</td>\n",
              "    </tr>\n",
              "  </tbody>\n",
              "</table>\n"
            ]
          },
          "metadata": {},
          "execution_count": 171
        }
      ],
      "source": [
        "df.corr().style.background_gradient(cmap = 'viridis') #exploring the correlation between numerical variables\n",
        "                                                     #darker colors indicating higher correlation coefficients \n",
        "                                                    #lighter colors indicating lower correlation coefficients."
      ]
    },
    {
      "cell_type": "markdown",
      "metadata": {
        "id": "-C_u69gLZ2H8"
      },
      "source": [
        "# Preprocessing"
      ]
    },
    {
      "cell_type": "code",
      "execution_count": 172,
      "metadata": {
        "id": "-CRn1Y1mZ2H9"
      },
      "outputs": [],
      "source": [
        "X = df.drop(['Category','Label'], axis=1) #creates a new df by dropping catergory and label and creates a new df with predictor variables\n",
        "y = df['Category'] #creates a new series that contain only the target varibales"
      ]
    },
    {
      "cell_type": "code",
      "execution_count": 173,
      "metadata": {
        "id": "PgCfXbNNZ2H9",
        "outputId": "6a737171-1f7d-40cb-fbe0-ece53215247c",
        "colab": {
          "base_uri": "https://localhost:8080/"
        }
      },
      "outputs": [
        {
          "output_type": "execute_result",
          "data": {
            "text/plain": [
              "Age              0\n",
              "Sex              0\n",
              "ALB              1\n",
              "ALP             18\n",
              "ALT              1\n",
              "AST              0\n",
              "BIL              0\n",
              "CHE              0\n",
              "CHOL            10\n",
              "CREA             0\n",
              "GGT              0\n",
              "PROT             1\n",
              "Enzyme Ratio     1\n",
              "dtype: int64"
            ]
          },
          "metadata": {},
          "execution_count": 173
        }
      ],
      "source": [
        "missing_value_count = X.isnull().sum() #identifies the columns with missing vaules before ML models can be trained on the data\n",
        "missing_value_count "
      ]
    },
    {
      "cell_type": "code",
      "execution_count": 174,
      "metadata": {
        "id": "-KB_sl5TZ2H-"
      },
      "outputs": [],
      "source": [
        "object_cols = ['Sex'] #preparing categorical data for ml task by transforming them into a format that can be used by ml algorithms.\n",
        "X1 = X.copy()\n",
        "ordinal_encoder = OrdinalEncoder()\n",
        "X1[object_cols] = ordinal_encoder.fit_transform(X[object_cols]) "
      ]
    },
    {
      "cell_type": "code",
      "execution_count": 175,
      "metadata": {
        "id": "ov8s5-U8Z2H-"
      },
      "outputs": [],
      "source": [
        "from sklearn.impute import SimpleImputer #to replace missing values in a dataset with imputed values\n",
        "# Imputation\n",
        "my_imputer = SimpleImputer()\n",
        "\n",
        "X2 = pd.DataFrame(my_imputer.fit_transform(X1)) #new df with imputed values \n",
        "\n",
        "X2.columns = X1.columns "
      ]
    },
    {
      "cell_type": "code",
      "execution_count": 176,
      "metadata": {
        "id": "QW3wCPQSZ2H-",
        "outputId": "059d7b64-a828-42e7-e2f3-b5e7838f48e3",
        "colab": {
          "base_uri": "https://localhost:8080/",
          "height": 424
        }
      },
      "outputs": [
        {
          "output_type": "execute_result",
          "data": {
            "text/plain": [
              "      Age  Sex   ALB        ALP    ALT    AST   BIL    CHE  CHOL   CREA  \\\n",
              "0    32.0  1.0  38.5   52.50000    7.7   22.1   7.5   6.93  3.23  106.0   \n",
              "1    32.0  1.0  38.5   70.30000   18.0   24.7   3.9  11.17  4.80   74.0   \n",
              "2    32.0  1.0  46.9   74.70000   36.2   52.6   6.1   8.84  5.20   86.0   \n",
              "3    32.0  1.0  43.2   52.00000   30.6   22.6  18.9   7.33  4.74   80.0   \n",
              "4    32.0  1.0  39.2   74.10000   32.6   24.8   9.6   9.15  4.32   76.0   \n",
              "..    ...  ...   ...        ...    ...    ...   ...    ...   ...    ...   \n",
              "610  62.0  0.0  32.0  416.60000    5.9  110.3  50.0   5.57  6.30   55.7   \n",
              "611  64.0  0.0  24.0  102.80000    2.9   44.4  20.0   1.54  3.02   63.0   \n",
              "612  64.0  0.0  29.0   87.30000    3.5   99.0  48.0   1.66  3.63   66.7   \n",
              "613  46.0  0.0  33.0   68.28392   39.0   62.0  20.0   3.56  4.20   52.0   \n",
              "614  59.0  0.0  36.0   68.28392  100.0   80.0  12.0   9.07  5.30   67.0   \n",
              "\n",
              "       GGT  PROT  Enzyme Ratio  \n",
              "0     12.1  69.0      2.870130  \n",
              "1     15.6  76.5      1.372222  \n",
              "2     33.2  79.3      1.453039  \n",
              "3     33.8  75.7      0.738562  \n",
              "4     29.9  68.7      0.760736  \n",
              "..     ...   ...           ...  \n",
              "610  650.9  68.5     18.694915  \n",
              "611   35.9  71.3     15.310345  \n",
              "612   64.2  82.0     28.285714  \n",
              "613   50.0  71.0      1.589744  \n",
              "614   34.0  68.0      0.800000  \n",
              "\n",
              "[615 rows x 13 columns]"
            ],
            "text/html": [
              "\n",
              "  <div id=\"df-bfde5ecd-48d9-4d8a-a96c-006d26963e9b\">\n",
              "    <div class=\"colab-df-container\">\n",
              "      <div>\n",
              "<style scoped>\n",
              "    .dataframe tbody tr th:only-of-type {\n",
              "        vertical-align: middle;\n",
              "    }\n",
              "\n",
              "    .dataframe tbody tr th {\n",
              "        vertical-align: top;\n",
              "    }\n",
              "\n",
              "    .dataframe thead th {\n",
              "        text-align: right;\n",
              "    }\n",
              "</style>\n",
              "<table border=\"1\" class=\"dataframe\">\n",
              "  <thead>\n",
              "    <tr style=\"text-align: right;\">\n",
              "      <th></th>\n",
              "      <th>Age</th>\n",
              "      <th>Sex</th>\n",
              "      <th>ALB</th>\n",
              "      <th>ALP</th>\n",
              "      <th>ALT</th>\n",
              "      <th>AST</th>\n",
              "      <th>BIL</th>\n",
              "      <th>CHE</th>\n",
              "      <th>CHOL</th>\n",
              "      <th>CREA</th>\n",
              "      <th>GGT</th>\n",
              "      <th>PROT</th>\n",
              "      <th>Enzyme Ratio</th>\n",
              "    </tr>\n",
              "  </thead>\n",
              "  <tbody>\n",
              "    <tr>\n",
              "      <th>0</th>\n",
              "      <td>32.0</td>\n",
              "      <td>1.0</td>\n",
              "      <td>38.5</td>\n",
              "      <td>52.50000</td>\n",
              "      <td>7.7</td>\n",
              "      <td>22.1</td>\n",
              "      <td>7.5</td>\n",
              "      <td>6.93</td>\n",
              "      <td>3.23</td>\n",
              "      <td>106.0</td>\n",
              "      <td>12.1</td>\n",
              "      <td>69.0</td>\n",
              "      <td>2.870130</td>\n",
              "    </tr>\n",
              "    <tr>\n",
              "      <th>1</th>\n",
              "      <td>32.0</td>\n",
              "      <td>1.0</td>\n",
              "      <td>38.5</td>\n",
              "      <td>70.30000</td>\n",
              "      <td>18.0</td>\n",
              "      <td>24.7</td>\n",
              "      <td>3.9</td>\n",
              "      <td>11.17</td>\n",
              "      <td>4.80</td>\n",
              "      <td>74.0</td>\n",
              "      <td>15.6</td>\n",
              "      <td>76.5</td>\n",
              "      <td>1.372222</td>\n",
              "    </tr>\n",
              "    <tr>\n",
              "      <th>2</th>\n",
              "      <td>32.0</td>\n",
              "      <td>1.0</td>\n",
              "      <td>46.9</td>\n",
              "      <td>74.70000</td>\n",
              "      <td>36.2</td>\n",
              "      <td>52.6</td>\n",
              "      <td>6.1</td>\n",
              "      <td>8.84</td>\n",
              "      <td>5.20</td>\n",
              "      <td>86.0</td>\n",
              "      <td>33.2</td>\n",
              "      <td>79.3</td>\n",
              "      <td>1.453039</td>\n",
              "    </tr>\n",
              "    <tr>\n",
              "      <th>3</th>\n",
              "      <td>32.0</td>\n",
              "      <td>1.0</td>\n",
              "      <td>43.2</td>\n",
              "      <td>52.00000</td>\n",
              "      <td>30.6</td>\n",
              "      <td>22.6</td>\n",
              "      <td>18.9</td>\n",
              "      <td>7.33</td>\n",
              "      <td>4.74</td>\n",
              "      <td>80.0</td>\n",
              "      <td>33.8</td>\n",
              "      <td>75.7</td>\n",
              "      <td>0.738562</td>\n",
              "    </tr>\n",
              "    <tr>\n",
              "      <th>4</th>\n",
              "      <td>32.0</td>\n",
              "      <td>1.0</td>\n",
              "      <td>39.2</td>\n",
              "      <td>74.10000</td>\n",
              "      <td>32.6</td>\n",
              "      <td>24.8</td>\n",
              "      <td>9.6</td>\n",
              "      <td>9.15</td>\n",
              "      <td>4.32</td>\n",
              "      <td>76.0</td>\n",
              "      <td>29.9</td>\n",
              "      <td>68.7</td>\n",
              "      <td>0.760736</td>\n",
              "    </tr>\n",
              "    <tr>\n",
              "      <th>...</th>\n",
              "      <td>...</td>\n",
              "      <td>...</td>\n",
              "      <td>...</td>\n",
              "      <td>...</td>\n",
              "      <td>...</td>\n",
              "      <td>...</td>\n",
              "      <td>...</td>\n",
              "      <td>...</td>\n",
              "      <td>...</td>\n",
              "      <td>...</td>\n",
              "      <td>...</td>\n",
              "      <td>...</td>\n",
              "      <td>...</td>\n",
              "    </tr>\n",
              "    <tr>\n",
              "      <th>610</th>\n",
              "      <td>62.0</td>\n",
              "      <td>0.0</td>\n",
              "      <td>32.0</td>\n",
              "      <td>416.60000</td>\n",
              "      <td>5.9</td>\n",
              "      <td>110.3</td>\n",
              "      <td>50.0</td>\n",
              "      <td>5.57</td>\n",
              "      <td>6.30</td>\n",
              "      <td>55.7</td>\n",
              "      <td>650.9</td>\n",
              "      <td>68.5</td>\n",
              "      <td>18.694915</td>\n",
              "    </tr>\n",
              "    <tr>\n",
              "      <th>611</th>\n",
              "      <td>64.0</td>\n",
              "      <td>0.0</td>\n",
              "      <td>24.0</td>\n",
              "      <td>102.80000</td>\n",
              "      <td>2.9</td>\n",
              "      <td>44.4</td>\n",
              "      <td>20.0</td>\n",
              "      <td>1.54</td>\n",
              "      <td>3.02</td>\n",
              "      <td>63.0</td>\n",
              "      <td>35.9</td>\n",
              "      <td>71.3</td>\n",
              "      <td>15.310345</td>\n",
              "    </tr>\n",
              "    <tr>\n",
              "      <th>612</th>\n",
              "      <td>64.0</td>\n",
              "      <td>0.0</td>\n",
              "      <td>29.0</td>\n",
              "      <td>87.30000</td>\n",
              "      <td>3.5</td>\n",
              "      <td>99.0</td>\n",
              "      <td>48.0</td>\n",
              "      <td>1.66</td>\n",
              "      <td>3.63</td>\n",
              "      <td>66.7</td>\n",
              "      <td>64.2</td>\n",
              "      <td>82.0</td>\n",
              "      <td>28.285714</td>\n",
              "    </tr>\n",
              "    <tr>\n",
              "      <th>613</th>\n",
              "      <td>46.0</td>\n",
              "      <td>0.0</td>\n",
              "      <td>33.0</td>\n",
              "      <td>68.28392</td>\n",
              "      <td>39.0</td>\n",
              "      <td>62.0</td>\n",
              "      <td>20.0</td>\n",
              "      <td>3.56</td>\n",
              "      <td>4.20</td>\n",
              "      <td>52.0</td>\n",
              "      <td>50.0</td>\n",
              "      <td>71.0</td>\n",
              "      <td>1.589744</td>\n",
              "    </tr>\n",
              "    <tr>\n",
              "      <th>614</th>\n",
              "      <td>59.0</td>\n",
              "      <td>0.0</td>\n",
              "      <td>36.0</td>\n",
              "      <td>68.28392</td>\n",
              "      <td>100.0</td>\n",
              "      <td>80.0</td>\n",
              "      <td>12.0</td>\n",
              "      <td>9.07</td>\n",
              "      <td>5.30</td>\n",
              "      <td>67.0</td>\n",
              "      <td>34.0</td>\n",
              "      <td>68.0</td>\n",
              "      <td>0.800000</td>\n",
              "    </tr>\n",
              "  </tbody>\n",
              "</table>\n",
              "<p>615 rows × 13 columns</p>\n",
              "</div>\n",
              "      <button class=\"colab-df-convert\" onclick=\"convertToInteractive('df-bfde5ecd-48d9-4d8a-a96c-006d26963e9b')\"\n",
              "              title=\"Convert this dataframe to an interactive table.\"\n",
              "              style=\"display:none;\">\n",
              "        \n",
              "  <svg xmlns=\"http://www.w3.org/2000/svg\" height=\"24px\"viewBox=\"0 0 24 24\"\n",
              "       width=\"24px\">\n",
              "    <path d=\"M0 0h24v24H0V0z\" fill=\"none\"/>\n",
              "    <path d=\"M18.56 5.44l.94 2.06.94-2.06 2.06-.94-2.06-.94-.94-2.06-.94 2.06-2.06.94zm-11 1L8.5 8.5l.94-2.06 2.06-.94-2.06-.94L8.5 2.5l-.94 2.06-2.06.94zm10 10l.94 2.06.94-2.06 2.06-.94-2.06-.94-.94-2.06-.94 2.06-2.06.94z\"/><path d=\"M17.41 7.96l-1.37-1.37c-.4-.4-.92-.59-1.43-.59-.52 0-1.04.2-1.43.59L10.3 9.45l-7.72 7.72c-.78.78-.78 2.05 0 2.83L4 21.41c.39.39.9.59 1.41.59.51 0 1.02-.2 1.41-.59l7.78-7.78 2.81-2.81c.8-.78.8-2.07 0-2.86zM5.41 20L4 18.59l7.72-7.72 1.47 1.35L5.41 20z\"/>\n",
              "  </svg>\n",
              "      </button>\n",
              "      \n",
              "  <style>\n",
              "    .colab-df-container {\n",
              "      display:flex;\n",
              "      flex-wrap:wrap;\n",
              "      gap: 12px;\n",
              "    }\n",
              "\n",
              "    .colab-df-convert {\n",
              "      background-color: #E8F0FE;\n",
              "      border: none;\n",
              "      border-radius: 50%;\n",
              "      cursor: pointer;\n",
              "      display: none;\n",
              "      fill: #1967D2;\n",
              "      height: 32px;\n",
              "      padding: 0 0 0 0;\n",
              "      width: 32px;\n",
              "    }\n",
              "\n",
              "    .colab-df-convert:hover {\n",
              "      background-color: #E2EBFA;\n",
              "      box-shadow: 0px 1px 2px rgba(60, 64, 67, 0.3), 0px 1px 3px 1px rgba(60, 64, 67, 0.15);\n",
              "      fill: #174EA6;\n",
              "    }\n",
              "\n",
              "    [theme=dark] .colab-df-convert {\n",
              "      background-color: #3B4455;\n",
              "      fill: #D2E3FC;\n",
              "    }\n",
              "\n",
              "    [theme=dark] .colab-df-convert:hover {\n",
              "      background-color: #434B5C;\n",
              "      box-shadow: 0px 1px 3px 1px rgba(0, 0, 0, 0.15);\n",
              "      filter: drop-shadow(0px 1px 2px rgba(0, 0, 0, 0.3));\n",
              "      fill: #FFFFFF;\n",
              "    }\n",
              "  </style>\n",
              "\n",
              "      <script>\n",
              "        const buttonEl =\n",
              "          document.querySelector('#df-bfde5ecd-48d9-4d8a-a96c-006d26963e9b button.colab-df-convert');\n",
              "        buttonEl.style.display =\n",
              "          google.colab.kernel.accessAllowed ? 'block' : 'none';\n",
              "\n",
              "        async function convertToInteractive(key) {\n",
              "          const element = document.querySelector('#df-bfde5ecd-48d9-4d8a-a96c-006d26963e9b');\n",
              "          const dataTable =\n",
              "            await google.colab.kernel.invokeFunction('convertToInteractive',\n",
              "                                                     [key], {});\n",
              "          if (!dataTable) return;\n",
              "\n",
              "          const docLinkHtml = 'Like what you see? Visit the ' +\n",
              "            '<a target=\"_blank\" href=https://colab.research.google.com/notebooks/data_table.ipynb>data table notebook</a>'\n",
              "            + ' to learn more about interactive tables.';\n",
              "          element.innerHTML = '';\n",
              "          dataTable['output_type'] = 'display_data';\n",
              "          await google.colab.output.renderOutput(dataTable, element);\n",
              "          const docLink = document.createElement('div');\n",
              "          docLink.innerHTML = docLinkHtml;\n",
              "          element.appendChild(docLink);\n",
              "        }\n",
              "      </script>\n",
              "    </div>\n",
              "  </div>\n",
              "  "
            ]
          },
          "metadata": {},
          "execution_count": 176
        }
      ],
      "source": [
        "X2  "
      ]
    },
    {
      "cell_type": "markdown",
      "metadata": {
        "id": "_HjED9mvZ2H_"
      },
      "source": [
        "# Feature Selection"
      ]
    },
    {
      "cell_type": "code",
      "execution_count": 177,
      "metadata": {
        "id": "5W7JxUX8Z2H_"
      },
      "outputs": [],
      "source": [
        "for colname in X.select_dtypes(\"object\"):\n",
        "    X[colname], _ = X[colname].factorize() #converts categorical variables in a dataset to integer \n",
        "discrete_features = X.dtypes == int #creates a mask to identify which columns have integer data type,which can be useful for ml algorithms \n",
        "                                    #that handles discrete data differently."
      ]
    },
    {
      "cell_type": "code",
      "execution_count": 178,
      "metadata": {
        "id": "zG_S1xlnZ2H_",
        "outputId": "b3ff806c-c6f4-4013-eb39-4db0e83651a7",
        "colab": {
          "base_uri": "https://localhost:8080/"
        }
      },
      "outputs": [
        {
          "output_type": "execute_result",
          "data": {
            "text/plain": [
              "Enzyme Ratio    0.256653\n",
              "AST             0.229887\n",
              "Age             0.177218\n",
              "ALB             0.161170\n",
              "ALP             0.150645\n",
              "ALT             0.128143\n",
              "CHE             0.119386\n",
              "BIL             0.114779\n",
              "GGT             0.109618\n",
              "CREA            0.102812\n",
              "PROT            0.074987\n",
              "CHOL            0.067116\n",
              "Sex             0.006949\n",
              "Name: MI Scores, dtype: float64"
            ]
          },
          "metadata": {},
          "execution_count": 178
        }
      ],
      "source": [
        "def make_mi_scores(X, y, discrete_features):\n",
        "    mi_scores = mutual_info_classif(X, y, discrete_features=discrete_features)\n",
        "    mi_scores = pd.Series(mi_scores, name=\"MI Scores\", index=X.columns)\n",
        "    mi_scores = mi_scores.sort_values(ascending=False)\n",
        "    return mi_scores\n",
        "\n",
        "#Mutual information(MI) scores measure the amount of information one variable provides about another variable\n",
        "#higher scores indicate more informative features for predicting the target variable\n",
        "mi_scores = make_mi_scores(X2, y, discrete_features) \n",
        "mi_scores "
      ]
    },
    {
      "cell_type": "code",
      "execution_count": 179,
      "metadata": {
        "id": "X-XdcmVDZ2H_"
      },
      "outputs": [],
      "source": [
        "X2= X2.drop('Sex', axis=1)"
      ]
    },
    {
      "cell_type": "code",
      "execution_count": 180,
      "metadata": {
        "id": "7_YuKnVcZ2H_"
      },
      "outputs": [],
      "source": [
        "X = X2.copy()"
      ]
    },
    {
      "cell_type": "markdown",
      "metadata": {
        "id": "kH4LWqKRZ2H_"
      },
      "source": [
        "## Machine Learning Model Building"
      ]
    },
    {
      "cell_type": "markdown",
      "metadata": {
        "id": "boI8XdxkZ2IA"
      },
      "source": [
        "## Decision Tree"
      ]
    },
    {
      "cell_type": "code",
      "execution_count": 181,
      "metadata": {
        "id": "GakBwHsGZ2IA",
        "outputId": "73921e5c-4529-4254-ce6f-6ce231de285d",
        "colab": {
          "base_uri": "https://localhost:8080/"
        }
      },
      "outputs": [
        {
          "output_type": "stream",
          "name": "stdout",
          "text": [
            "Classification Report: \n",
            "                      precision    recall  f1-score   support\n",
            "\n",
            "        Blood Donor       0.97      0.97      0.97       533\n",
            "          Cirrhosis       0.82      0.77      0.79        30\n",
            "           Fibrosis       0.24      0.38      0.30        21\n",
            "          Hepatitis       0.38      0.25      0.30        24\n",
            "suspect Blood Donor       0.40      0.29      0.33         7\n",
            "\n",
            "           accuracy                           0.91       615\n",
            "          macro avg       0.56      0.53      0.54       615\n",
            "       weighted avg       0.91      0.91      0.91       615\n",
            "\n"
          ]
        }
      ],
      "source": [
        "#Accuracy in binary\n",
        "decision_tree = dtc(random_state=0)\n",
        "decision_tree.fit(X,y)\n",
        "predict = cross_val_predict(estimator = decision_tree, X = X, y = y, cv = 5)\n",
        "print(\"Classification Report: \\n\",classification_report(y, predict))"
      ]
    },
    {
      "cell_type": "code",
      "execution_count": 182,
      "metadata": {
        "id": "nUvik48yZ2IA",
        "outputId": "7525c62a-0939-4f85-b3fc-3eca5a3df2cd",
        "colab": {
          "base_uri": "https://localhost:8080/"
        }
      },
      "outputs": [
        {
          "output_type": "stream",
          "name": "stdout",
          "text": [
            "Accuracy: 91.00%\n"
          ]
        }
      ],
      "source": [
        "#Accuracy in percentage\n",
        "decision_tree = dtc(random_state=0)\n",
        "decision_tree.fit(X,y)\n",
        "predict = cross_val_predict(estimator = decision_tree, X = X, y = y, cv = 5)\n",
        "report = classification_report(y, predict)\n",
        "\n",
        "# Find the indices of the first and last digit of the classification report\n",
        "start_index = report.find('accuracy')\n",
        "end_index = report.find('macro avg')\n",
        "\n",
        "# Extract the accuracy score from the classification report\n",
        "accuracy_score = report[start_index:end_index].split()[1]\n",
        "\n",
        "# Convert the accuracy score to percentage and print\n",
        "accuracy_percent = float(accuracy_score) * 100\n",
        "print(\"Accuracy: {:.2f}%\".format(accuracy_percent))"
      ]
    },
    {
      "cell_type": "markdown",
      "metadata": {
        "id": "V9S11obAZ2IA"
      },
      "source": [
        "## Random Forest Classifier"
      ]
    },
    {
      "cell_type": "code",
      "execution_count": 183,
      "metadata": {
        "id": "oEfVyQP-Z2IA",
        "outputId": "52a2b134-1da7-47cb-dbaa-ba9d985841e6",
        "colab": {
          "base_uri": "https://localhost:8080/"
        }
      },
      "outputs": [
        {
          "output_type": "stream",
          "name": "stdout",
          "text": [
            "Classification Report: \n",
            "                      precision    recall  f1-score   support\n",
            "\n",
            "        Blood Donor       0.97      0.99      0.98       533\n",
            "          Cirrhosis       0.81      0.83      0.82        30\n",
            "           Fibrosis       0.38      0.38      0.38        21\n",
            "          Hepatitis       0.44      0.29      0.35        24\n",
            "suspect Blood Donor       1.00      0.14      0.25         7\n",
            "\n",
            "           accuracy                           0.93       615\n",
            "          macro avg       0.72      0.53      0.56       615\n",
            "       weighted avg       0.92      0.93      0.92       615\n",
            "\n"
          ]
        }
      ],
      "source": [
        "#Accuracy in binary\n",
        "random_forest = RandomForestClassifier(random_state = 0)   \n",
        "random_forest.fit(X,y)   \n",
        "predict = cross_val_predict(estimator = random_forest, X = X, y = y, cv = 5)\n",
        "print(\"Classification Report: \\n\",classification_report(y, predict))"
      ]
    },
    {
      "cell_type": "code",
      "execution_count": 184,
      "metadata": {
        "id": "M0DHMI-jZ2IA",
        "outputId": "e82abe7c-216b-4f96-a2b0-c285228d4614",
        "colab": {
          "base_uri": "https://localhost:8080/"
        }
      },
      "outputs": [
        {
          "output_type": "stream",
          "name": "stdout",
          "text": [
            "Accuracy: 93.00%\n"
          ]
        }
      ],
      "source": [
        "#Accuracy in percentage\n",
        "random_forest = RandomForestClassifier(random_state=0)\n",
        "random_forest.fit(X,y)\n",
        "predict = cross_val_predict(estimator = random_forest, X = X, y = y, cv = 5)\n",
        "report = classification_report(y, predict)\n",
        "\n",
        "# Find the indices of the first and last digit of the classification report\n",
        "start_index = report.find('accuracy')\n",
        "end_index = report.find('macro avg')\n",
        "\n",
        "# Extract the accuracy score from the classification report\n",
        "accuracy_score = report[start_index:end_index].split()[1]\n",
        "\n",
        "# Convert the accuracy score to percentage and print\n",
        "accuracy_percent = float(accuracy_score) * 100\n",
        "print(\"Accuracy: {:.2f}%\".format(accuracy_percent))\n"
      ]
    },
    {
      "cell_type": "markdown",
      "metadata": {
        "id": "vjsNz0j9Z2IB"
      },
      "source": [
        "## KNN Neighbors Classifier"
      ]
    },
    {
      "cell_type": "code",
      "execution_count": 185,
      "metadata": {
        "id": "rqmzZbgWZ2IB",
        "outputId": "f71103c6-3a88-4fa0-a95b-6ba7b8465853",
        "colab": {
          "base_uri": "https://localhost:8080/"
        }
      },
      "outputs": [
        {
          "output_type": "stream",
          "name": "stdout",
          "text": [
            "Classification Report: \n",
            "                      precision    recall  f1-score   support\n",
            "\n",
            "        Blood Donor       0.94      1.00      0.97       533\n",
            "          Cirrhosis       0.73      0.53      0.62        30\n",
            "           Fibrosis       0.33      0.19      0.24        21\n",
            "          Hepatitis       0.38      0.21      0.27        24\n",
            "suspect Blood Donor       1.00      0.14      0.25         7\n",
            "\n",
            "           accuracy                           0.91       615\n",
            "          macro avg       0.68      0.41      0.47       615\n",
            "       weighted avg       0.88      0.91      0.89       615\n",
            "\n"
          ]
        }
      ],
      "source": [
        "#Accuracy in binary\n",
        "knn = KNeighborsClassifier()\n",
        "knn.fit(X,y)\n",
        "predict = cross_val_predict(estimator = knn, X = X, y = y, cv = 5)\n",
        "print(\"Classification Report: \\n\",classification_report(y, predict))"
      ]
    },
    {
      "cell_type": "code",
      "execution_count": 186,
      "metadata": {
        "id": "poSLWl3yZ2IB",
        "outputId": "4943581b-efec-4267-f3e3-8901088157ff",
        "colab": {
          "base_uri": "https://localhost:8080/"
        }
      },
      "outputs": [
        {
          "output_type": "stream",
          "name": "stdout",
          "text": [
            "Accuracy: 91.00%\n"
          ]
        }
      ],
      "source": [
        "#Accuracy in percentage\n",
        "knn = KNeighborsClassifier()\n",
        "knn.fit(X,y)\n",
        "predict = cross_val_predict(estimator = knn, X = X, y = y, cv = 5)\n",
        "report = classification_report(y, predict)\n",
        "\n",
        "# Find the indices of the first and last digit of the classification report\n",
        "start_index = report.find('accuracy')\n",
        "end_index = report.find('macro avg')\n",
        "\n",
        "# Extract the accuracy score from the classification report\n",
        "accuracy_score = report[start_index:end_index].split()[1]\n",
        "\n",
        "# Convert the accuracy score to percentage and print\n",
        "accuracy_percent = float(accuracy_score) * 100\n",
        "print(\"Accuracy: {:.2f}%\".format(accuracy_percent))"
      ]
    },
    {
      "cell_type": "markdown",
      "metadata": {
        "id": "Xth9wbWfZ2IB"
      },
      "source": [
        "## Gaussian Naive Baiyes"
      ]
    },
    {
      "cell_type": "code",
      "execution_count": 187,
      "metadata": {
        "id": "LOCCM2uXZ2IB",
        "outputId": "251bfe0c-62f5-4756-bb36-4d7022b938ce",
        "colab": {
          "base_uri": "https://localhost:8080/"
        }
      },
      "outputs": [
        {
          "output_type": "stream",
          "name": "stdout",
          "text": [
            "Classification Report: \n",
            "                      precision    recall  f1-score   support\n",
            "\n",
            "        Blood Donor       0.98      0.96      0.97       533\n",
            "          Cirrhosis       0.81      0.73      0.77        30\n",
            "           Fibrosis       0.33      0.48      0.39        21\n",
            "          Hepatitis       0.37      0.42      0.39        24\n",
            "suspect Blood Donor       0.36      0.57      0.44         7\n",
            "\n",
            "           accuracy                           0.90       615\n",
            "          macro avg       0.57      0.63      0.59       615\n",
            "       weighted avg       0.92      0.90      0.91       615\n",
            "\n"
          ]
        }
      ],
      "source": [
        "#Accuracy in binary\n",
        "gnb = GaussianNB()\n",
        "gnb.fit(X,y)\n",
        "predict = cross_val_predict(estimator = gnb, X = X, y = y, cv = 5)\n",
        "print(\"Classification Report: \\n\",classification_report(y, predict))"
      ]
    },
    {
      "cell_type": "code",
      "execution_count": 188,
      "metadata": {
        "id": "pTBKGIpuZ2IB",
        "outputId": "bcf58d14-7057-4bd4-f171-15a516db84aa",
        "colab": {
          "base_uri": "https://localhost:8080/"
        }
      },
      "outputs": [
        {
          "output_type": "stream",
          "name": "stdout",
          "text": [
            "Accuracy: 90.00%\n"
          ]
        }
      ],
      "source": [
        "#Accuracy in percentage\n",
        "gnb = GaussianNB()\n",
        "gnb.fit(X,y)\n",
        "predict = cross_val_predict(estimator = gnb, X = X, y = y, cv = 5)\n",
        "report = classification_report(y, predict)\n",
        "\n",
        "# Find the indices of the first and last digit of the classification report\n",
        "start_index = report.find('accuracy')\n",
        "end_index = report.find('macro avg')\n",
        "\n",
        "# Extract the accuracy score from the classification report\n",
        "accuracy_score = report[start_index:end_index].split()[1]\n",
        "\n",
        "# Convert the accuracy score to percentage and print\n",
        "accuracy_percent = float(accuracy_score) * 100\n",
        "print(\"Accuracy: {:.2f}%\".format(accuracy_percent))"
      ]
    },
    {
      "cell_type": "markdown",
      "metadata": {
        "id": "D25-JXgcZ2IC"
      },
      "source": [
        "## Support Vector Classifier"
      ]
    },
    {
      "cell_type": "code",
      "execution_count": 189,
      "metadata": {
        "id": "xFSYpHMtZ2IC",
        "outputId": "eabec172-fd5c-4da5-8c2b-bf6529102916",
        "colab": {
          "base_uri": "https://localhost:8080/"
        }
      },
      "outputs": [
        {
          "output_type": "stream",
          "name": "stdout",
          "text": [
            "Classification Report: \n",
            "                      precision    recall  f1-score   support\n",
            "\n",
            "        Blood Donor       0.93      1.00      0.97       533\n",
            "          Cirrhosis       0.73      0.73      0.73        30\n",
            "           Fibrosis       0.22      0.10      0.13        21\n",
            "          Hepatitis       0.00      0.00      0.00        24\n",
            "suspect Blood Donor       0.00      0.00      0.00         7\n",
            "\n",
            "           accuracy                           0.90       615\n",
            "          macro avg       0.38      0.37      0.37       615\n",
            "       weighted avg       0.85      0.90      0.88       615\n",
            "\n"
          ]
        },
        {
          "output_type": "stream",
          "name": "stderr",
          "text": [
            "/usr/local/lib/python3.9/dist-packages/sklearn/metrics/_classification.py:1344: UndefinedMetricWarning: Precision and F-score are ill-defined and being set to 0.0 in labels with no predicted samples. Use `zero_division` parameter to control this behavior.\n",
            "  _warn_prf(average, modifier, msg_start, len(result))\n",
            "/usr/local/lib/python3.9/dist-packages/sklearn/metrics/_classification.py:1344: UndefinedMetricWarning: Precision and F-score are ill-defined and being set to 0.0 in labels with no predicted samples. Use `zero_division` parameter to control this behavior.\n",
            "  _warn_prf(average, modifier, msg_start, len(result))\n",
            "/usr/local/lib/python3.9/dist-packages/sklearn/metrics/_classification.py:1344: UndefinedMetricWarning: Precision and F-score are ill-defined and being set to 0.0 in labels with no predicted samples. Use `zero_division` parameter to control this behavior.\n",
            "  _warn_prf(average, modifier, msg_start, len(result))\n"
          ]
        }
      ],
      "source": [
        "#Accuracy in binary\n",
        "svc = SVC()\n",
        "svc.fit(X,y)\n",
        "predict = cross_val_predict(estimator = svc, X = X, y = y, cv = 5)\n",
        "print(\"Classification Report: \\n\",classification_report(y, predict))"
      ]
    },
    {
      "cell_type": "code",
      "execution_count": 190,
      "metadata": {
        "id": "kGKTMOkpZ2IC",
        "outputId": "083bfaf4-9ae2-4114-a8a2-9187c83aedc2",
        "colab": {
          "base_uri": "https://localhost:8080/"
        }
      },
      "outputs": [
        {
          "output_type": "stream",
          "name": "stdout",
          "text": [
            "Accuracy: 90.00%\n"
          ]
        },
        {
          "output_type": "stream",
          "name": "stderr",
          "text": [
            "/usr/local/lib/python3.9/dist-packages/sklearn/metrics/_classification.py:1344: UndefinedMetricWarning: Precision and F-score are ill-defined and being set to 0.0 in labels with no predicted samples. Use `zero_division` parameter to control this behavior.\n",
            "  _warn_prf(average, modifier, msg_start, len(result))\n",
            "/usr/local/lib/python3.9/dist-packages/sklearn/metrics/_classification.py:1344: UndefinedMetricWarning: Precision and F-score are ill-defined and being set to 0.0 in labels with no predicted samples. Use `zero_division` parameter to control this behavior.\n",
            "  _warn_prf(average, modifier, msg_start, len(result))\n",
            "/usr/local/lib/python3.9/dist-packages/sklearn/metrics/_classification.py:1344: UndefinedMetricWarning: Precision and F-score are ill-defined and being set to 0.0 in labels with no predicted samples. Use `zero_division` parameter to control this behavior.\n",
            "  _warn_prf(average, modifier, msg_start, len(result))\n"
          ]
        }
      ],
      "source": [
        "#Accuracy in percentage\n",
        "svc = SVC()\n",
        "svc.fit(X,y)\n",
        "predict = cross_val_predict(estimator = svc, X = X, y = y, cv = 5)\n",
        "report = classification_report(y, predict)\n",
        "\n",
        "# Find the indices of the first and last digit of the classification report\n",
        "start_index = report.find('accuracy')\n",
        "end_index = report.find('macro avg')\n",
        "\n",
        "# Extract the accuracy score from the classification report\n",
        "accuracy_score = report[start_index:end_index].split()[1]\n",
        "\n",
        "# Convert the accuracy score to percentage and print\n",
        "accuracy_percent = float(accuracy_score) * 100\n",
        "print(\"Accuracy: {:.2f}%\".format(accuracy_percent))"
      ]
    },
    {
      "cell_type": "code",
      "source": [
        "# Define classifiers and their names\n",
        "classifiers = [dtc(random_state=0), RandomForestClassifier(random_state=0), KNeighborsClassifier(), GaussianNB(), SVC()]\n",
        "names = ['Decision Tree', 'Random Forest', 'K-Nearest Neighbors', 'Gaussian Naive Bayes', 'Support Vector Machine']\n",
        "\n",
        "# Calculate accuracies and store them in a list\n",
        "accuracies = []\n",
        "for clf in classifiers:\n",
        "    predict = cross_val_predict(estimator=clf, X=X, y=y, cv=5)\n",
        "    report = classification_report(y, predict)\n",
        "    start_index = report.find('accuracy')\n",
        "    end_index = report.find('macro avg')\n",
        "    accuracy_score = report[start_index:end_index].split()[1]\n",
        "    accuracy_percent = float(accuracy_score) * 100\n",
        "    accuracies.append(accuracy_percent)\n",
        "\n",
        "# Create the line chart\n",
        "plt.plot(names, accuracies, marker='o')\n",
        "plt.title('Accuracy Comparison of ML Algorithms')\n",
        "plt.xlabel('Algorithm')\n",
        "plt.xticks(rotation=45)\n",
        "plt.ylabel('Accuracy (%)')"
      ],
      "metadata": {
        "colab": {
          "base_uri": "https://localhost:8080/",
          "height": 730
        },
        "id": "OZvA8SjVQhuD",
        "outputId": "0c8fdb62-0759-49d3-d346-c8d444c9952b"
      },
      "execution_count": 191,
      "outputs": [
        {
          "output_type": "stream",
          "name": "stderr",
          "text": [
            "/usr/local/lib/python3.9/dist-packages/sklearn/metrics/_classification.py:1344: UndefinedMetricWarning: Precision and F-score are ill-defined and being set to 0.0 in labels with no predicted samples. Use `zero_division` parameter to control this behavior.\n",
            "  _warn_prf(average, modifier, msg_start, len(result))\n",
            "/usr/local/lib/python3.9/dist-packages/sklearn/metrics/_classification.py:1344: UndefinedMetricWarning: Precision and F-score are ill-defined and being set to 0.0 in labels with no predicted samples. Use `zero_division` parameter to control this behavior.\n",
            "  _warn_prf(average, modifier, msg_start, len(result))\n",
            "/usr/local/lib/python3.9/dist-packages/sklearn/metrics/_classification.py:1344: UndefinedMetricWarning: Precision and F-score are ill-defined and being set to 0.0 in labels with no predicted samples. Use `zero_division` parameter to control this behavior.\n",
            "  _warn_prf(average, modifier, msg_start, len(result))\n"
          ]
        },
        {
          "output_type": "execute_result",
          "data": {
            "text/plain": [
              "Text(0, 0.5, 'Accuracy (%)')"
            ]
          },
          "metadata": {},
          "execution_count": 191
        },
        {
          "output_type": "display_data",
          "data": {
            "text/plain": [
              "<Figure size 640x480 with 1 Axes>"
            ],
            "image/png": "[encoded data removed]"
          },
          "metadata": {}
        }
      ]
    }
  ],
  "metadata": {
    "colab": {
      "provenance": []
    },
    "kernelspec": {
      "display_name": "Python 3",
      "language": "python",
      "name": "python3"
    },
    "language_info": {
      "codemirror_mode": {
        "name": "ipython",
        "version": 3
      },
      "file_extension": ".py",
      "mimetype": "text/x-python",
      "name": "python",
      "nbconvert_exporter": "python",
      "pygments_lexer": "ipython3",
      "version": "3.7.12"
    }
  },
  "nbformat": 4,
  "nbformat_minor": 0
}